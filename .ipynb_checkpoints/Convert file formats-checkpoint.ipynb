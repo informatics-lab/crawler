{
 "cells": [
  {
   "cell_type": "code",
   "execution_count": 24,
   "metadata": {
    "collapsed": false
   },
   "outputs": [
    {
     "name": "stdout",
     "output_type": "stream",
     "text": [
      "Reading package lists... Done\n",
      "Building dependency tree       \n",
      "Reading state information... Done\n",
      "The following extra packages will be installed:\n",
      "  fonts-liberation libcdt5 libcgraph6 libgd3 libgvc6 libgvpr2 libpathplan4\n",
      "  libvpx1 libxaw7 libxdot4 libxmu6 libxpm4 libxt6\n",
      "Suggested packages:\n",
      "  gsfonts graphviz-doc libgd-tools\n",
      "The following NEW packages will be installed:\n",
      "  fonts-liberation graphviz libcdt5 libcgraph6 libgd3 libgvc6 libgvpr2\n",
      "  libpathplan4 libvpx1 libxaw7 libxdot4 libxmu6 libxpm4 libxt6\n",
      "0 upgraded, 14 newly installed, 0 to remove and 23 not upgraded.\n",
      "Need to get 3914 kB of archives.\n",
      "After this operation, 18.2 MB of additional disk space will be used.\n",
      "Get:1 http://security.debian.org/ jessie/updates/main libxpm4 amd64 1:3.5.12-0+deb8u1 [49.2 kB]\n",
      "Get:2 http://security.debian.org/ jessie/updates/main libgd3 amd64 2.1.0-5+deb8u9 [148 kB]\n",
      "Get:3 http://httpredir.debian.org/debian/ jessie/main libvpx1 amd64 1.3.0-3 [599 kB]\n",
      "Get:4 http://httpredir.debian.org/debian/ jessie/main libxt6 amd64 1:1.1.4-1+b1 [186 kB]\n",
      "Get:5 http://httpredir.debian.org/debian/ jessie/main libxmu6 amd64 2:1.1.2-1 [58.6 kB]\n",
      "Get:6 http://httpredir.debian.org/debian/ jessie/main libxaw7 amd64 2:1.0.12-2+b1 [199 kB]\n",
      "Get:7 http://httpredir.debian.org/debian/ jessie/main fonts-liberation all 1.07.4-1 [835 kB]\n",
      "Get:8 http://httpredir.debian.org/debian/ jessie/main libcdt5 amd64 2.38.0-7 [62.7 kB]\n",
      "Get:9 http://httpredir.debian.org/debian/ jessie/main libcgraph6 amd64 2.38.0-7 [85.2 kB]\n",
      "Get:10 http://httpredir.debian.org/debian/ jessie/main libpathplan4 amd64 2.38.0-7 [66.0 kB]\n",
      "Get:11 http://httpredir.debian.org/debian/ jessie/main libxdot4 amd64 2.38.0-7 [58.7 kB]\n",
      "Get:12 http://httpredir.debian.org/debian/ jessie/main libgvc6 amd64 2.38.0-7 [637 kB]\n",
      "Get:13 http://httpredir.debian.org/debian/ jessie/main libgvpr2 amd64 2.38.0-7 [212 kB]\n",
      "Get:14 http://httpredir.debian.org/debian/ jessie/main graphviz amd64 2.38.0-7 [717 kB]\n",
      "Fetched 3914 kB in 1s (2829 kB/s)\n",
      "debconf: delaying package configuration, since apt-utils is not installed\n",
      "Selecting previously unselected package libvpx1:amd64.\n",
      "(Reading database ... 25444 files and directories currently installed.)\n",
      "Preparing to unpack .../libvpx1_1.3.0-3_amd64.deb ...\n",
      "Unpacking libvpx1:amd64 (1.3.0-3) ...\n",
      "Selecting previously unselected package libxpm4:amd64.\n",
      "Preparing to unpack .../libxpm4_1%3a3.5.12-0+deb8u1_amd64.deb ...\n",
      "Unpacking libxpm4:amd64 (1:3.5.12-0+deb8u1) ...\n",
      "Selecting previously unselected package libgd3:amd64.\n",
      "Preparing to unpack .../libgd3_2.1.0-5+deb8u9_amd64.deb ...\n",
      "Unpacking libgd3:amd64 (2.1.0-5+deb8u9) ...\n",
      "Selecting previously unselected package libxt6:amd64.\n",
      "Preparing to unpack .../libxt6_1%3a1.1.4-1+b1_amd64.deb ...\n",
      "Unpacking libxt6:amd64 (1:1.1.4-1+b1) ...\n",
      "Selecting previously unselected package libxmu6:amd64.\n",
      "Preparing to unpack .../libxmu6_2%3a1.1.2-1_amd64.deb ...\n",
      "Unpacking libxmu6:amd64 (2:1.1.2-1) ...\n",
      "Selecting previously unselected package libxaw7:amd64.\n",
      "Preparing to unpack .../libxaw7_2%3a1.0.12-2+b1_amd64.deb ...\n",
      "Unpacking libxaw7:amd64 (2:1.0.12-2+b1) ...\n",
      "Selecting previously unselected package fonts-liberation.\n",
      "Preparing to unpack .../fonts-liberation_1.07.4-1_all.deb ...\n",
      "Unpacking fonts-liberation (1.07.4-1) ...\n",
      "Selecting previously unselected package libcdt5.\n",
      "Preparing to unpack .../libcdt5_2.38.0-7_amd64.deb ...\n",
      "Unpacking libcdt5 (2.38.0-7) ...\n",
      "Selecting previously unselected package libcgraph6.\n",
      "Preparing to unpack .../libcgraph6_2.38.0-7_amd64.deb ...\n",
      "Unpacking libcgraph6 (2.38.0-7) ...\n",
      "Selecting previously unselected package libpathplan4.\n",
      "Preparing to unpack .../libpathplan4_2.38.0-7_amd64.deb ...\n",
      "Unpacking libpathplan4 (2.38.0-7) ...\n",
      "Selecting previously unselected package libxdot4.\n",
      "Preparing to unpack .../libxdot4_2.38.0-7_amd64.deb ...\n",
      "Unpacking libxdot4 (2.38.0-7) ...\n",
      "Selecting previously unselected package libgvc6.\n",
      "Preparing to unpack .../libgvc6_2.38.0-7_amd64.deb ...\n",
      "Unpacking libgvc6 (2.38.0-7) ...\n",
      "Selecting previously unselected package libgvpr2.\n",
      "Preparing to unpack .../libgvpr2_2.38.0-7_amd64.deb ...\n",
      "Unpacking libgvpr2 (2.38.0-7) ...\n",
      "Selecting previously unselected package graphviz.\n",
      "Preparing to unpack .../graphviz_2.38.0-7_amd64.deb ...\n",
      "Unpacking graphviz (2.38.0-7) ...\n",
      "Processing triggers for fontconfig (2.11.0-6.3+deb8u1) ...\n",
      "Setting up libvpx1:amd64 (1.3.0-3) ...\n",
      "Setting up libxpm4:amd64 (1:3.5.12-0+deb8u1) ...\n",
      "Setting up libgd3:amd64 (2.1.0-5+deb8u9) ...\n",
      "Setting up libxt6:amd64 (1:1.1.4-1+b1) ...\n",
      "Setting up libxmu6:amd64 (2:1.1.2-1) ...\n",
      "Setting up libxaw7:amd64 (2:1.0.12-2+b1) ...\n",
      "Setting up fonts-liberation (1.07.4-1) ...\n",
      "Setting up libcdt5 (2.38.0-7) ...\n",
      "Setting up libcgraph6 (2.38.0-7) ...\n",
      "Setting up libpathplan4 (2.38.0-7) ...\n",
      "Setting up libxdot4 (2.38.0-7) ...\n",
      "Setting up libgvc6 (2.38.0-7) ...\n",
      "Setting up libgvpr2 (2.38.0-7) ...\n",
      "Setting up graphviz (2.38.0-7) ...\n",
      "Processing triggers for libc-bin (2.19-18+deb8u4) ...\n",
      "Requirement already satisfied (use --upgrade to upgrade): graphviz in /opt/conda/lib/python3.5/site-packages\n",
      "\u001b[33mYou are using pip version 8.1.2, however version 9.0.1 is available.\n",
      "You should consider upgrading via the 'pip install --upgrade pip' command.\u001b[0m\n"
     ]
    }
   ],
   "source": [
    "!apt-get install -y graphviz\n",
    "!pip install graphviz"
   ]
  },
  {
   "cell_type": "code",
   "execution_count": 34,
   "metadata": {
    "collapsed": false
   },
   "outputs": [],
   "source": [
    "import os\n",
    "import tempfile\n",
    "import numpy as np\n",
    "\n",
    "import boto3 as boto\n",
    "import iris\n",
    "\n",
    "import json\n",
    "import itertools\n",
    "\n",
    "import dask\n",
    "\n",
    "from env import *\n",
    "\n",
    "\n",
    "SQS_ENDPOINT_URL = \"https://sqs.eu-west-2.amazonaws.com/\"\n",
    "JOB_QUEUE_NAME = \"mogreps-conversion\"\n",
    "USER_ID = \"021908831235\"\n",
    "FAILED_QUEUE_NAME = \"mogreps-conversion-failed\"\n",
    "PASSED_QUEUE_NAME = \"mogreps-conversion-completed\"\n",
    "JOB_QUEUE_URL = SQS_ENDPOINT_URL + USER_ID + \"/\" + JOB_QUEUE_NAME\n",
    "\n",
    "\n",
    "iris.FUTURE.netcdf_no_unlimited = True\n",
    "iris.FUTURE.netcdf_promote = True\n",
    "\n",
    "\n",
    "def init_aws():\n",
    "    session = boto.session.Session(region_name=\"eu-west-2\",\n",
    "                                   aws_access_key_id=AWS_KEY_ID,\n",
    "                                   aws_secret_access_key=AWS_SECRET_KEY_ID)\n",
    "    global sqs\n",
    "    sqs = session.resource('sqs')\n",
    "    global s3\n",
    "    s3 = session.resource('s3')\n",
    "    \n",
    "\n",
    "def tear_down_aws():\n",
    "    sqs.meta.client._endpoint.http_session.close()\n",
    "    s3.meta.client._endpoint.http_session.close()\n",
    "\n",
    "\n",
    "def parse_s3_uri(s3_uri):\n",
    "    nasty_stuff = s3_uri.split(\"/\")\n",
    "    _, extension = os.path.splitext(s3_uri)\n",
    "    bucket = nasty_stuff[2]\n",
    "    key = \"/\".join(nasty_stuff[3:])\n",
    "\n",
    "    return bucket, key, extension\n",
    "\n",
    "\n",
    "def download_object(s3_uri):\n",
    "    bucket, key, extension = parse_s3_uri(s3_uri)\n",
    "    data_file = tempfile.NamedTemporaryFile(mode='w+b', suffix=extension)\n",
    "    s3.Object(bucket, key).download_file(data_file.name)\n",
    "\n",
    "    return data_file\n",
    "\n",
    "\n",
    "def assert_cube_lists_equivalent(cubes_in, cubes_out):\n",
    "     for cube_in in cubes_in:\n",
    "        if cube_in.name() is not 'Unknown':\n",
    "            name_con = iris.Constraint(name=cube_in.name())\n",
    "            cell_method_con = iris.Constraint(cube_func=lambda c: c.cell_methods == cube_in.cell_methods)\n",
    "            dim_coords_con = iris.Constraint(cube_func=lambda c: all([p.name() == q.name() for (p,q) in zip(c.coords(), cube_in.coords())]))\n",
    "\n",
    "            [cube_out] = cubes_out.extract(name_con&cell_method_con&dim_coords_con)\n",
    "\n",
    "            for coord in cube_out.coords():\n",
    "                coord.var_name = None\n",
    "            cube_in.attributes = None\n",
    "            cube_out.attributes = None\n",
    "            cube_in.var_name = None\n",
    "            cube_out.var_name = None\n",
    "\n",
    "            np.testing.assert_equal(cube_in.data, cube_out.data)\n",
    "\n",
    "            assert cube_in == cube_out\n",
    "    \n",
    "    \n",
    "def replace_s3_obj(s3_uri, new_file_name):\n",
    "    old_bucket, old_s3_key, old_extension = parse_s3_uri(s3_uri)\n",
    "    \n",
    "    if 'mogreps-g' in s3_uri:\n",
    "        new_bucket = 'mogreps-g'\n",
    "    elif 'mogreps-uk' in s3_uri:\n",
    "        new_bucket = 'mogreps-uk'\n",
    "    else:\n",
    "        raise ValueError\n",
    "        \n",
    "    new_s3_key = old_s3_key.split(\"/\")[-1].replace('pp', 'nc')\n",
    "    \n",
    "    s3.Object(new_bucket, new_s3_key).upload_file(new_file_name)\n",
    "    s3.Object(old_bucket, old_s3_key).delete()\n",
    "    \n",
    "    \n",
    "def add_to_queue(s3_uri, queue):\n",
    "    \n",
    "    failed_queue = sqs.get_queue_by_name(QueueName=queue)\n",
    "    failed_queue.send_message(MessageBody=s3_uri)\n",
    "    \n",
    "    \n",
    "def save_to_netcdf(s3_uri, complevel=1):\n",
    "    data_file_in = download_object(s3_uri)\n",
    "    try:\n",
    "        cubes_in = iris.load(data_file_in.name)\n",
    "    except:\n",
    "        raise AttributeError\n",
    "    \n",
    "    data_file_out = tempfile.NamedTemporaryFile(mode='w+b', suffix=\".nc\")\n",
    "    iris.save(cubes_in, data_file_out.name, netcdf_format=\"NETCDF4\", zlib=True, complevel=complevel)\n",
    "    return data_file_in, data_file_out\n",
    "    \n",
    "    \n",
    "# def get_jobs():\n",
    "#     setup_aws_session()\n",
    "#     sqs = boto.resource('sqs')\n",
    "#     queue = sqs.Queue(JOB_QUEUE_URL)\n",
    "    \n",
    "#     some_messages = queue.receive_messages(MaxNumberOfMessages=1)\n",
    "#     while len(some_messages) > 0:\n",
    "#         [this_message] = some_messages\n",
    "#         s3_uri = \"s3://mogreps/\"+json.loads(this_message.body)[\"Message\"]\n",
    "#         yield this_message.receipt_handle, s3_uri\n",
    "#         some_messages = queue.receive_messages(MaxNumberOfMessages=1)\n",
    "\n",
    "\n",
    "def get_next_job():\n",
    "    queue = sqs.Queue(JOB_QUEUE_URL)\n",
    "    \n",
    "    some_messages = queue.receive_messages(MaxNumberOfMessages=1)\n",
    "    [this_message] = some_messages\n",
    "    s3_uri = \"s3://mogreps/\"+json.loads(this_message.body)[\"Message\"]\n",
    "    return this_message.receipt_handle, s3_uri\n",
    "        \n",
    "\n",
    "def convert_next_object_from_s3():\n",
    "    \"\"\" Converts file to NetCDF \"\"\"\n",
    "    init_aws()\n",
    "    \n",
    "    job = get_next_job()\n",
    "    message_handle, s3_uri = job\n",
    "    \n",
    "    try:\n",
    "        data_file_in, data_file_out = save_to_netcdf(s3_uri)\n",
    "    except Exception as e:\n",
    "        add_to_queue(s3_uri, FAILED_QUEUE_NAME)\n",
    "        return str(e) \n",
    "        \n",
    "    try:\n",
    "        cubes_in = iris.load(data_file_in.name)\n",
    "        cubes_out = iris.load(data_file_out.name)\n",
    "        assert_cube_lists_equivalent(cubes_in, cubes_out)\n",
    "    except Exception as e:\n",
    "        add_to_queue(s3_uri, FAILED_QUEUE_NAME)\n",
    "        return str(e)\n",
    "    else:\n",
    "        replace_s3_obj(s3_uri, data_file_out.name)\n",
    "        msg = sqs.Message(JOB_QUEUE_URL, message_handle)\n",
    "        msg.delete()\n",
    "        add_to_queue(s3_uri, PASSED_QUEUE_NAME)\n",
    "    finally:\n",
    "        tear_down_aws()"
   ]
  },
  {
   "cell_type": "code",
   "execution_count": 48,
   "metadata": {
    "collapsed": false
   },
   "outputs": [
    {
     "data": {
      "text/plain": [
       "<Client: scheduler=\"ec2-35-176-25-244.eu-west-2.compute.amazonaws.com:8786\" processes=2 cores=6>"
      ]
     },
     "execution_count": 48,
     "metadata": {},
     "output_type": "execute_result"
    }
   ],
   "source": [
    "import dask\n",
    "import distributed\n",
    "e = distributed.Executor(\"ec2-35-176-25-244.eu-west-2.compute.amazonaws.com:8786\")\n",
    "e"
   ]
  },
  {
   "cell_type": "code",
   "execution_count": 44,
   "metadata": {
    "collapsed": false
   },
   "outputs": [],
   "source": [
    "f = e.submit(convert_next_object_from_s3)"
   ]
  },
  {
   "cell_type": "code",
   "execution_count": 47,
   "metadata": {
    "collapsed": false
   },
   "outputs": [
    {
     "data": {
      "text/plain": [
       "<Client: scheduler=\"ec2-35-176-25-244.eu-west-2.compute.amazonaws.com:8786\" processes=1 cores=4>"
      ]
     },
     "execution_count": 47,
     "metadata": {},
     "output_type": "execute_result"
    }
   ],
   "source": [
    "e.restart()"
   ]
  },
  {
   "cell_type": "code",
   "execution_count": 50,
   "metadata": {
    "collapsed": false
   },
   "outputs": [
    {
     "data": {
      "text/plain": [
       "140433458705136"
      ]
     },
     "execution_count": 50,
     "metadata": {},
     "output_type": "execute_result"
    }
   ],
   "source": [
    "id(convert_next_object_from_s3)"
   ]
  },
  {
   "cell_type": "code",
   "execution_count": 57,
   "metadata": {
    "collapsed": false
   },
   "outputs": [],
   "source": [
    "import copy\n",
    "\n",
    "thisfn = copy.deepcopy(convert_next_object_from_s3)"
   ]
  },
  {
   "cell_type": "code",
   "execution_count": 58,
   "metadata": {
    "collapsed": false
   },
   "outputs": [
    {
     "data": {
      "text/plain": [
       "140433458705136"
      ]
     },
     "execution_count": 58,
     "metadata": {},
     "output_type": "execute_result"
    }
   ],
   "source": [
    "id(thisfn)"
   ]
  },
  {
   "cell_type": "code",
   "execution_count": 49,
   "metadata": {
    "collapsed": false
   },
   "outputs": [],
   "source": [
    "futures = []\n",
    "for _ in range(2):\n",
    "    thisfn = convert_next_object_from_s3.copy()\n",
    "    future = e.submit(convert_next_object_from_s3)\n",
    "    futures.append(future)\n",
    "    \n",
    "# ac = as_completed(futures)\n",
    "\n",
    "# for _ in ac:\n",
    "#     future = e.submit(convert_next_object_from_s3)\n",
    "#     ac.add(future)"
   ]
  },
  {
   "cell_type": "code",
   "execution_count": null,
   "metadata": {
    "collapsed": true
   },
   "outputs": [],
   "source": []
  },
  {
   "cell_type": "code",
   "execution_count": 35,
   "metadata": {
    "collapsed": false
   },
   "outputs": [],
   "source": [
    "f = e.submit(convert_next_object_from_s3)"
   ]
  },
  {
   "cell_type": "code",
   "execution_count": 3,
   "metadata": {
    "collapsed": false
   },
   "outputs": [],
   "source": [
    "# futures = []\n",
    "# for _ in range(3):\n",
    "#     future = e.submit(convert_next_object_from_s3)\n",
    "#     futures.append(future)\n",
    "    \n",
    "# processed = dask.delayed(futures)"
   ]
  },
  {
   "cell_type": "code",
   "execution_count": 4,
   "metadata": {
    "collapsed": false,
    "scrolled": true
   },
   "outputs": [
    {
     "name": "stderr",
     "output_type": "stream",
     "text": [
      "distributed.utils - ERROR - list-7ebdf1d2-10ce-414a-b000-dd032e078c2a\n",
      "Traceback (most recent call last):\n",
      "  File \"/opt/conda/lib/python3.5/site-packages/distributed/client.py\", line 893, in _gather\n",
      "    st = self.futures[key]\n",
      "KeyError: 'list-7ebdf1d2-10ce-414a-b000-dd032e078c2a'\n",
      "\n",
      "During handling of the above exception, another exception occurred:\n",
      "\n",
      "Traceback (most recent call last):\n",
      "  File \"/opt/conda/lib/python3.5/site-packages/distributed/utils.py\", line 149, in f\n",
      "    result[0] = yield gen.maybe_future(func(*args, **kwargs))\n",
      "  File \"/opt/conda/lib/python3.5/site-packages/tornado/gen.py\", line 1015, in run\n",
      "    value = future.result()\n",
      "  File \"/opt/conda/lib/python3.5/site-packages/tornado/concurrent.py\", line 237, in result\n",
      "    raise_exc_info(self._exc_info)\n",
      "  File \"<string>\", line 3, in raise_exc_info\n",
      "  File \"/opt/conda/lib/python3.5/site-packages/tornado/gen.py\", line 1021, in run\n",
      "    yielded = self.gen.throw(*exc_info)\n",
      "  File \"/opt/conda/lib/python3.5/site-packages/distributed/client.py\", line 900, in _gather\n",
      "    None)\n",
      "  File \"/opt/conda/lib/python3.5/site-packages/six.py\", line 686, in reraise\n",
      "    raise value\n",
      "concurrent.futures._base.CancelledError: list-7ebdf1d2-10ce-414a-b000-dd032e078c2a\n"
     ]
    },
    {
     "ename": "KeyboardInterrupt",
     "evalue": "",
     "output_type": "error",
     "traceback": [
      "\u001b[0;31m---------------------------------------------------------------------------\u001b[0m",
      "\u001b[0;31mKeyboardInterrupt\u001b[0m                         Traceback (most recent call last)",
      "\u001b[0;32m<ipython-input-4-d5c63a4572e8>\u001b[0m in \u001b[0;36m<module>\u001b[0;34m()\u001b[0m\n\u001b[1;32m      1\u001b[0m \u001b[0;31m# from datetime import datetime\u001b[0m\u001b[0;34m\u001b[0m\u001b[0;34m\u001b[0m\u001b[0m\n\u001b[1;32m      2\u001b[0m \u001b[0;31m# then = datetime.now()\u001b[0m\u001b[0;34m\u001b[0m\u001b[0;34m\u001b[0m\u001b[0m\n\u001b[0;32m----> 3\u001b[0;31m \u001b[0m_\u001b[0m \u001b[0;34m=\u001b[0m \u001b[0mprocessed\u001b[0m\u001b[0;34m.\u001b[0m\u001b[0mcompute\u001b[0m\u001b[0;34m(\u001b[0m\u001b[0;34m)\u001b[0m\u001b[0;34m\u001b[0m\u001b[0m\n\u001b[0m\u001b[1;32m      4\u001b[0m \u001b[0;31m# now = datetime.now()\u001b[0m\u001b[0;34m\u001b[0m\u001b[0;34m\u001b[0m\u001b[0m\n",
      "\u001b[0;32m/opt/conda/lib/python3.5/site-packages/dask/base.py\u001b[0m in \u001b[0;36mcompute\u001b[0;34m(self, **kwargs)\u001b[0m\n\u001b[1;32m     77\u001b[0m             \u001b[0mExtra\u001b[0m \u001b[0mkeywords\u001b[0m \u001b[0mto\u001b[0m \u001b[0mforward\u001b[0m \u001b[0mto\u001b[0m \u001b[0mthe\u001b[0m \u001b[0mscheduler\u001b[0m\u001b[0;31m \u001b[0m\u001b[0;31m`\u001b[0m\u001b[0;31m`\u001b[0m\u001b[0mget\u001b[0m\u001b[0;31m`\u001b[0m\u001b[0;31m`\u001b[0m \u001b[0mfunction\u001b[0m\u001b[0;34m.\u001b[0m\u001b[0;34m\u001b[0m\u001b[0m\n\u001b[1;32m     78\u001b[0m         \"\"\"\n\u001b[0;32m---> 79\u001b[0;31m         \u001b[0;32mreturn\u001b[0m \u001b[0mcompute\u001b[0m\u001b[0;34m(\u001b[0m\u001b[0mself\u001b[0m\u001b[0;34m,\u001b[0m \u001b[0;34m**\u001b[0m\u001b[0mkwargs\u001b[0m\u001b[0;34m)\u001b[0m\u001b[0;34m[\u001b[0m\u001b[0;36m0\u001b[0m\u001b[0;34m]\u001b[0m\u001b[0;34m\u001b[0m\u001b[0m\n\u001b[0m\u001b[1;32m     80\u001b[0m \u001b[0;34m\u001b[0m\u001b[0m\n\u001b[1;32m     81\u001b[0m     \u001b[0;34m@\u001b[0m\u001b[0mclassmethod\u001b[0m\u001b[0;34m\u001b[0m\u001b[0m\n",
      "\u001b[0;32m/opt/conda/lib/python3.5/site-packages/dask/base.py\u001b[0m in \u001b[0;36mcompute\u001b[0;34m(*args, **kwargs)\u001b[0m\n\u001b[1;32m    177\u001b[0m         \u001b[0mdsk\u001b[0m \u001b[0;34m=\u001b[0m \u001b[0mmerge\u001b[0m\u001b[0;34m(\u001b[0m\u001b[0mvar\u001b[0m\u001b[0;34m.\u001b[0m\u001b[0mdask\u001b[0m \u001b[0;32mfor\u001b[0m \u001b[0mvar\u001b[0m \u001b[0;32min\u001b[0m \u001b[0mvariables\u001b[0m\u001b[0;34m)\u001b[0m\u001b[0;34m\u001b[0m\u001b[0m\n\u001b[1;32m    178\u001b[0m     \u001b[0mkeys\u001b[0m \u001b[0;34m=\u001b[0m \u001b[0;34m[\u001b[0m\u001b[0mvar\u001b[0m\u001b[0;34m.\u001b[0m\u001b[0m_keys\u001b[0m\u001b[0;34m(\u001b[0m\u001b[0;34m)\u001b[0m \u001b[0;32mfor\u001b[0m \u001b[0mvar\u001b[0m \u001b[0;32min\u001b[0m \u001b[0mvariables\u001b[0m\u001b[0;34m]\u001b[0m\u001b[0;34m\u001b[0m\u001b[0m\n\u001b[0;32m--> 179\u001b[0;31m     \u001b[0mresults\u001b[0m \u001b[0;34m=\u001b[0m \u001b[0mget\u001b[0m\u001b[0;34m(\u001b[0m\u001b[0mdsk\u001b[0m\u001b[0;34m,\u001b[0m \u001b[0mkeys\u001b[0m\u001b[0;34m,\u001b[0m \u001b[0;34m**\u001b[0m\u001b[0mkwargs\u001b[0m\u001b[0;34m)\u001b[0m\u001b[0;34m\u001b[0m\u001b[0m\n\u001b[0m\u001b[1;32m    180\u001b[0m \u001b[0;34m\u001b[0m\u001b[0m\n\u001b[1;32m    181\u001b[0m     \u001b[0mresults_iter\u001b[0m \u001b[0;34m=\u001b[0m \u001b[0miter\u001b[0m\u001b[0;34m(\u001b[0m\u001b[0mresults\u001b[0m\u001b[0;34m)\u001b[0m\u001b[0;34m\u001b[0m\u001b[0m\n",
      "\u001b[0;32m/opt/conda/lib/python3.5/site-packages/distributed/client.py\u001b[0m in \u001b[0;36mget\u001b[0;34m(self, dsk, keys, restrictions, loose_restrictions, resources, **kwargs)\u001b[0m\n\u001b[1;32m   1433\u001b[0m \u001b[0;34m\u001b[0m\u001b[0m\n\u001b[1;32m   1434\u001b[0m         \u001b[0;32mtry\u001b[0m\u001b[0;34m:\u001b[0m\u001b[0;34m\u001b[0m\u001b[0m\n\u001b[0;32m-> 1435\u001b[0;31m             \u001b[0mresults\u001b[0m \u001b[0;34m=\u001b[0m \u001b[0mself\u001b[0m\u001b[0;34m.\u001b[0m\u001b[0mgather\u001b[0m\u001b[0;34m(\u001b[0m\u001b[0mfutures\u001b[0m\u001b[0;34m)\u001b[0m\u001b[0;34m\u001b[0m\u001b[0m\n\u001b[0m\u001b[1;32m   1436\u001b[0m         \u001b[0;32mexcept\u001b[0m \u001b[0;34m(\u001b[0m\u001b[0mKeyboardInterrupt\u001b[0m\u001b[0;34m,\u001b[0m \u001b[0mException\u001b[0m\u001b[0;34m)\u001b[0m \u001b[0;32mas\u001b[0m \u001b[0me\u001b[0m\u001b[0;34m:\u001b[0m\u001b[0;34m\u001b[0m\u001b[0m\n\u001b[1;32m   1437\u001b[0m             \u001b[0;32mfor\u001b[0m \u001b[0mf\u001b[0m \u001b[0;32min\u001b[0m \u001b[0mfutures\u001b[0m\u001b[0;34m.\u001b[0m\u001b[0mvalues\u001b[0m\u001b[0;34m(\u001b[0m\u001b[0;34m)\u001b[0m\u001b[0;34m:\u001b[0m\u001b[0;34m\u001b[0m\u001b[0m\n",
      "\u001b[0;32m/opt/conda/lib/python3.5/site-packages/distributed/client.py\u001b[0m in \u001b[0;36mgather\u001b[0;34m(self, futures, errors, maxsize)\u001b[0m\n\u001b[1;32m    976\u001b[0m             \u001b[0;32mreturn\u001b[0m \u001b[0;34m(\u001b[0m\u001b[0mself\u001b[0m\u001b[0;34m.\u001b[0m\u001b[0mgather\u001b[0m\u001b[0;34m(\u001b[0m\u001b[0mf\u001b[0m\u001b[0;34m,\u001b[0m \u001b[0merrors\u001b[0m\u001b[0;34m=\u001b[0m\u001b[0merrors\u001b[0m\u001b[0;34m)\u001b[0m \u001b[0;32mfor\u001b[0m \u001b[0mf\u001b[0m \u001b[0;32min\u001b[0m \u001b[0mfutures\u001b[0m\u001b[0;34m)\u001b[0m\u001b[0;34m\u001b[0m\u001b[0m\n\u001b[1;32m    977\u001b[0m         \u001b[0;32melse\u001b[0m\u001b[0;34m:\u001b[0m\u001b[0;34m\u001b[0m\u001b[0m\n\u001b[0;32m--> 978\u001b[0;31m             \u001b[0;32mreturn\u001b[0m \u001b[0msync\u001b[0m\u001b[0;34m(\u001b[0m\u001b[0mself\u001b[0m\u001b[0;34m.\u001b[0m\u001b[0mloop\u001b[0m\u001b[0;34m,\u001b[0m \u001b[0mself\u001b[0m\u001b[0;34m.\u001b[0m\u001b[0m_gather\u001b[0m\u001b[0;34m,\u001b[0m \u001b[0mfutures\u001b[0m\u001b[0;34m,\u001b[0m \u001b[0merrors\u001b[0m\u001b[0;34m=\u001b[0m\u001b[0merrors\u001b[0m\u001b[0;34m)\u001b[0m\u001b[0;34m\u001b[0m\u001b[0m\n\u001b[0m\u001b[1;32m    979\u001b[0m \u001b[0;34m\u001b[0m\u001b[0m\n\u001b[1;32m    980\u001b[0m     \u001b[0;34m@\u001b[0m\u001b[0mgen\u001b[0m\u001b[0;34m.\u001b[0m\u001b[0mcoroutine\u001b[0m\u001b[0;34m\u001b[0m\u001b[0m\n",
      "\u001b[0;32m/opt/conda/lib/python3.5/site-packages/distributed/utils.py\u001b[0m in \u001b[0;36msync\u001b[0;34m(loop, func, *args, **kwargs)\u001b[0m\n\u001b[1;32m    159\u001b[0m     \u001b[0ma\u001b[0m \u001b[0;34m=\u001b[0m \u001b[0mloop\u001b[0m\u001b[0;34m.\u001b[0m\u001b[0madd_callback\u001b[0m\u001b[0;34m(\u001b[0m\u001b[0mf\u001b[0m\u001b[0;34m)\u001b[0m\u001b[0;34m\u001b[0m\u001b[0m\n\u001b[1;32m    160\u001b[0m     \u001b[0;32mwhile\u001b[0m \u001b[0;32mnot\u001b[0m \u001b[0me\u001b[0m\u001b[0;34m.\u001b[0m\u001b[0mis_set\u001b[0m\u001b[0;34m(\u001b[0m\u001b[0;34m)\u001b[0m\u001b[0;34m:\u001b[0m\u001b[0;34m\u001b[0m\u001b[0m\n\u001b[0;32m--> 161\u001b[0;31m         \u001b[0me\u001b[0m\u001b[0;34m.\u001b[0m\u001b[0mwait\u001b[0m\u001b[0;34m(\u001b[0m\u001b[0;36m1000000\u001b[0m\u001b[0;34m)\u001b[0m\u001b[0;34m\u001b[0m\u001b[0m\n\u001b[0m\u001b[1;32m    162\u001b[0m     \u001b[0;32mif\u001b[0m \u001b[0merror\u001b[0m\u001b[0;34m[\u001b[0m\u001b[0;36m0\u001b[0m\u001b[0;34m]\u001b[0m\u001b[0;34m:\u001b[0m\u001b[0;34m\u001b[0m\u001b[0m\n\u001b[1;32m    163\u001b[0m         \u001b[0msix\u001b[0m\u001b[0;34m.\u001b[0m\u001b[0mreraise\u001b[0m\u001b[0;34m(\u001b[0m\u001b[0mtype\u001b[0m\u001b[0;34m(\u001b[0m\u001b[0merror\u001b[0m\u001b[0;34m[\u001b[0m\u001b[0;36m0\u001b[0m\u001b[0;34m]\u001b[0m\u001b[0;34m)\u001b[0m\u001b[0;34m,\u001b[0m \u001b[0merror\u001b[0m\u001b[0;34m[\u001b[0m\u001b[0;36m0\u001b[0m\u001b[0;34m]\u001b[0m\u001b[0;34m,\u001b[0m \u001b[0mtraceback\u001b[0m\u001b[0;34m[\u001b[0m\u001b[0;36m0\u001b[0m\u001b[0;34m]\u001b[0m\u001b[0;34m)\u001b[0m\u001b[0;34m\u001b[0m\u001b[0m\n",
      "\u001b[0;32m/opt/conda/lib/python3.5/threading.py\u001b[0m in \u001b[0;36mwait\u001b[0;34m(self, timeout)\u001b[0m\n\u001b[1;32m    547\u001b[0m             \u001b[0msignaled\u001b[0m \u001b[0;34m=\u001b[0m \u001b[0mself\u001b[0m\u001b[0;34m.\u001b[0m\u001b[0m_flag\u001b[0m\u001b[0;34m\u001b[0m\u001b[0m\n\u001b[1;32m    548\u001b[0m             \u001b[0;32mif\u001b[0m \u001b[0;32mnot\u001b[0m \u001b[0msignaled\u001b[0m\u001b[0;34m:\u001b[0m\u001b[0;34m\u001b[0m\u001b[0m\n\u001b[0;32m--> 549\u001b[0;31m                 \u001b[0msignaled\u001b[0m \u001b[0;34m=\u001b[0m \u001b[0mself\u001b[0m\u001b[0;34m.\u001b[0m\u001b[0m_cond\u001b[0m\u001b[0;34m.\u001b[0m\u001b[0mwait\u001b[0m\u001b[0;34m(\u001b[0m\u001b[0mtimeout\u001b[0m\u001b[0;34m)\u001b[0m\u001b[0;34m\u001b[0m\u001b[0m\n\u001b[0m\u001b[1;32m    550\u001b[0m             \u001b[0;32mreturn\u001b[0m \u001b[0msignaled\u001b[0m\u001b[0;34m\u001b[0m\u001b[0m\n\u001b[1;32m    551\u001b[0m \u001b[0;34m\u001b[0m\u001b[0m\n",
      "\u001b[0;32m/opt/conda/lib/python3.5/threading.py\u001b[0m in \u001b[0;36mwait\u001b[0;34m(self, timeout)\u001b[0m\n\u001b[1;32m    295\u001b[0m             \u001b[0;32melse\u001b[0m\u001b[0;34m:\u001b[0m\u001b[0;34m\u001b[0m\u001b[0m\n\u001b[1;32m    296\u001b[0m                 \u001b[0;32mif\u001b[0m \u001b[0mtimeout\u001b[0m \u001b[0;34m>\u001b[0m \u001b[0;36m0\u001b[0m\u001b[0;34m:\u001b[0m\u001b[0;34m\u001b[0m\u001b[0m\n\u001b[0;32m--> 297\u001b[0;31m                     \u001b[0mgotit\u001b[0m \u001b[0;34m=\u001b[0m \u001b[0mwaiter\u001b[0m\u001b[0;34m.\u001b[0m\u001b[0macquire\u001b[0m\u001b[0;34m(\u001b[0m\u001b[0;32mTrue\u001b[0m\u001b[0;34m,\u001b[0m \u001b[0mtimeout\u001b[0m\u001b[0;34m)\u001b[0m\u001b[0;34m\u001b[0m\u001b[0m\n\u001b[0m\u001b[1;32m    298\u001b[0m                 \u001b[0;32melse\u001b[0m\u001b[0;34m:\u001b[0m\u001b[0;34m\u001b[0m\u001b[0m\n\u001b[1;32m    299\u001b[0m                     \u001b[0mgotit\u001b[0m \u001b[0;34m=\u001b[0m \u001b[0mwaiter\u001b[0m\u001b[0;34m.\u001b[0m\u001b[0macquire\u001b[0m\u001b[0;34m(\u001b[0m\u001b[0;32mFalse\u001b[0m\u001b[0;34m)\u001b[0m\u001b[0;34m\u001b[0m\u001b[0m\n",
      "\u001b[0;31mKeyboardInterrupt\u001b[0m: "
     ]
    }
   ],
   "source": [
    "# from datetime import datetime\n",
    "# then = datetime.now()\n",
    "_ = processed.compute()\n",
    "# now = datetime.now()"
   ]
  },
  {
   "cell_type": "code",
   "execution_count": null,
   "metadata": {
    "collapsed": true
   },
   "outputs": [],
   "source": []
  }
 ],
 "metadata": {
  "kernelspec": {
   "display_name": "Python 3",
   "language": "python",
   "name": "python3"
  },
  "language_info": {
   "codemirror_mode": {
    "name": "ipython",
    "version": 3
   },
   "file_extension": ".py",
   "mimetype": "text/x-python",
   "name": "python",
   "nbconvert_exporter": "python",
   "pygments_lexer": "ipython3",
   "version": "3.5.2"
  }
 },
 "nbformat": 4,
 "nbformat_minor": 2
}
