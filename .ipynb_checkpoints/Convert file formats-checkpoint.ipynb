{
 "cells": [
  {
   "cell_type": "code",
   "execution_count": 41,
   "metadata": {
    "collapsed": false
   },
   "outputs": [],
   "source": [
    "from __future__ import print_function\n",
    "\n",
    "import os\n",
    "import tempfile\n",
    "\n",
    "import boto3 as boto\n",
    "import numpy as np\n",
    "from datetime import datetime\n",
    "import iris\n",
    "\n",
    "iris.FUTURE.netcdf_no_unlimited = True\n",
    "\n",
    "\n",
    "def human_bytes(num, suffix='B'):\n",
    "    for unit in ['','Ki','Mi','Gi','Ti','Pi','Ei','Zi']:\n",
    "        if abs(num) < 1024.0:\n",
    "            return \"%3.1f%s%s\" % (num, unit, suffix)\n",
    "        num /= 1024.0\n",
    "    return \"%.1f%s%s\" % (num, 'Yi', suffix)\n",
    "\n",
    "\n",
    "def parse_s3_uri(s3_uri):\n",
    "    nasty_stuff = s3_uri.split(\"/\")\n",
    "    _, extension = os.path.splitext(s3_uri)\n",
    "    bucket = nasty_stuff[2]\n",
    "    key = \"/\".join(nasty_stuff[3:])\n",
    "\n",
    "    return bucket, key, extension\n",
    "\n",
    "\n",
    "def download_object(s3_uri):\n",
    "    bucket, key, extension = parse_s3_uri(s3_uri)\n",
    "    print(bucket, key, extension)\n",
    "    data_file = tempfile.NamedTemporaryFile(mode='w+b', suffix=extension)\n",
    "    s3 = boto.resource('s3', 'eu-west-2')\n",
    "    s3.Object(bucket, key).download_file(data_file.name)\n",
    "\n",
    "    return data_file\n",
    "\n",
    "\n",
    "def assert_cube_lists_equivalent(cubes_in, cubes_out):\n",
    "    for cube_in in cubes_in:\n",
    "        name_con = iris.Constraint(name=cube_in.name())\n",
    "        cell_method_con = iris.Constraint(cube_func=lambda c: c.cell_methods==cube_in.cell_methods)\n",
    "        \n",
    "        [cube_out] = cubes_out.extract(name_con&cell_method_con)\n",
    "        \n",
    "        for coord in cube_out.coords():\n",
    "            coord.var_name = None\n",
    "        cube_in.attributes = None\n",
    "        cube_out.attributes = None\n",
    "            \n",
    "        np.testing.assert_almost_equal(cube_in.data, cube_out.data)\n",
    "        np.testing.assert_equal(cube_in.data, cube_out.data)\n",
    "      \n",
    "        print(cube_in)\n",
    "        print(cube_out)\n",
    "        assert cube_in == cube_out\n",
    "    \n",
    "    \n",
    "def replace_s3_obj(s3_uri, new_file_name):\n",
    "    bucket, old_s3_key, extension = parse_s3_uri(s3_uri)\n",
    "    new_s3_key = \"/\".join(old_s3_key.split(\"/\")[-1] + new_file_name)\n",
    "\n",
    "    s3 = boto.resource('s3')\n",
    "#     s3.Object(bucket, new_s3_key).upload_file(new_file_name)\n",
    "    print(\"UPLOADING...\")\n",
    "    \n",
    "#     s3.Object(bucket, old_s3_key).delete()\n",
    "    \n",
    "    \n",
    "def add_to_dead_letter(s3_uri, dlq_name=\"dlq\"):\n",
    "    sqs = boto.resource('sqs', 'eu-west-2')\n",
    "    dlq = sqs.get_queue_by_name(QueueName=dlq_name)\n",
    "    dlq.send_message(MessageBody=s3_uri)\n",
    "    \n",
    "def save_to_netcdf(s3_uri):\n",
    "    data_file_in = download_object(s3_uri)\n",
    "    cubes_in = iris.load(data_file_in.name)\n",
    "    \n",
    "    data_file_out = tempfile.NamedTemporaryFile(mode='w+b', suffix=\".nc\")\n",
    "    iris.save(cubes_in, data_file_out.name, netcdf_format=\"NETCDF4\", zlib=True, complevel=5)\n",
    "    return data_file_in, data_file_out\n",
    "    \n",
    "def convert_object_from_s3(s3_uri):\n",
    "    \"\"\" Converts file to NetCDF \"\"\"\n",
    "    data_file_in, data_file_out = save_to_netcdf(s3_uri)\n",
    "    cubes_in = iris.load(data_file_in.name)\n",
    "    cubes_out = iris.load(data_file_out.name)\n",
    "    \n",
    "    try:\n",
    "        assert_cube_lists_equivalent(cubes_in, cubes_out)\n",
    "    except:\n",
    "#         add_to_dead_letter(s3_uri)\n",
    "        raise\n",
    "    else:\n",
    "        replace_s3_obj(s3_uri, data_file_out.name)\n",
    "        \n",
    "def test_file_size(s3_uri):\n",
    "    now = datetime.now()\n",
    "    data_file_in, data_file_out = save_to_netcdf(s3_uri)\n",
    "    print(\"Compression took {} seconds\".format((datetime.now() - now).total_seconds()))\n",
    "    now = datetime.now()\n",
    "    cubes_in = iris.load(data_file_in.name)\n",
    "    print(\"Loading took {} seconds\".format((datetime.now() - now).total_seconds()))\n",
    "    return human_bytes(os.stat(data_file_in.name).st_size), human_bytes(os.stat(data_file_out.name).st_size)"
   ]
  },
  {
   "cell_type": "code",
   "execution_count": null,
   "metadata": {
    "collapsed": false
   },
   "outputs": [
    {
     "name": "stdout",
     "output_type": "stream",
     "text": [
      "mogreps 2016/prods_op_mogreps-g_20160101_00_00_003.pp .pp\n"
     ]
    }
   ],
   "source": [
    "# convert_object_from_s3(\"s3://mogreps-g/201612/prods_op_mogreps-g_20161203_00_00_048.pp\")\n",
    "print(test_file_size(\"s3://mogreps/2016/prods_op_mogreps-g_20160101_00_00_003.pp\"))"
   ]
  },
  {
   "cell_type": "code",
   "execution_count": null,
   "metadata": {
    "collapsed": true
   },
   "outputs": [],
   "source": [
    "import iris\n",
    "import boto3 as boto\n",
    "\n",
    "def pickup_job(queue_name=\"new_files\"):\n",
    "    sqs = boto.resource('sqs')\n",
    "    queue = sqs.get_queue_by_name(QueueName=queue_name)\n",
    "\n",
    "if __name__ == \"__main__\":\n",
    "    job = pickup_job()\n",
    "    if job:\n",
    "        ingest_job(job)"
   ]
  },
  {
   "cell_type": "code",
   "execution_count": 13,
   "metadata": {
    "collapsed": false
   },
   "outputs": [],
   "source": [
    "import boto3 as boto\n",
    "s3 = boto.resource('s3')\n",
    "s3.Object(\"mogreps-g\", \"201612/prods_op_mogreps-g_20161203_00_00_048.pp\").download_file(\"test.pp\")"
   ]
  },
  {
   "cell_type": "code",
   "execution_count": 35,
   "metadata": {
    "collapsed": true
   },
   "outputs": [],
   "source": [
    "_ = s3.Object(\"mogreps-g\", \"201612/prods_op_mogreps-g_20161203_00_00_048.pp\")"
   ]
  },
  {
   "cell_type": "code",
   "execution_count": 38,
   "metadata": {
    "collapsed": true
   },
   "outputs": [],
   "source": [
    "_.upload_file?"
   ]
  },
  {
   "cell_type": "code",
   "execution_count": 10,
   "metadata": {
    "collapsed": false
   },
   "outputs": [
    {
     "name": "stderr",
     "output_type": "stream",
     "text": [
      "/opt/conda/lib/python3.5/site-packages/iris/fileformats/rules.py:946: UserWarning: Unable to create instance of HybridHeightFactory. The source data contains no field(s) for 'orography'.\n",
      "  warnings.warn(msg.format(factory=factory_name))\n"
     ]
    }
   ],
   "source": [
    "import iris\n",
    "d = iris.load(\"test.pp\")"
   ]
  },
  {
   "cell_type": "code",
   "execution_count": 23,
   "metadata": {
    "collapsed": false
   },
   "outputs": [],
   "source": [
    "name_con = iris.Constraint(name=d[0].name())\n",
    "cell_method_con = iris.Constraint(cube_func=lambda c: c.cell_methods==d[0].cell_methods)"
   ]
  },
  {
   "cell_type": "code",
   "execution_count": 66,
   "metadata": {
    "collapsed": false
   },
   "outputs": [
    {
     "data": {
      "text/plain": [
       "[<iris 'Cube' of atmosphere_optical_thickness_due_all_ambient_aerosol / (1) (pseudo_level: 6; latitude: 600; longitude: 800)>]"
      ]
     },
     "execution_count": 66,
     "metadata": {},
     "output_type": "execute_result"
    }
   ],
   "source": [
    "d.extract(name_con&cell_method_con)"
   ]
  }
 ],
 "metadata": {
  "kernelspec": {
   "display_name": "Python 2",
   "language": "python",
   "name": "python2"
  },
  "language_info": {
   "codemirror_mode": {
    "name": "ipython",
    "version": 2
   },
   "file_extension": ".py",
   "mimetype": "text/x-python",
   "name": "python",
   "nbconvert_exporter": "python",
   "pygments_lexer": "ipython2",
   "version": "2.7.13"
  }
 },
 "nbformat": 4,
 "nbformat_minor": 2
}
