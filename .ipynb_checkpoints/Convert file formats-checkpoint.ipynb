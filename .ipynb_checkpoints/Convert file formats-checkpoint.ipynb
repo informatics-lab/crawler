{
 "cells": [
  {
   "cell_type": "markdown",
   "metadata": {},
   "source": [
    "![logo](https://jupyter.informaticslab.co.uk/hub/logo)"
   ]
  },
  {
   "cell_type": "markdown",
   "metadata": {},
   "source": [
    "Converting 100TB data in the Cloud\n",
    "==================\n",
    "\n",
    "We've made 100TB of Met Office weather forecast data available in the AWS cloud. We benchmarked our distributed computation system, Jade, by converting all 1.8M files from Met Office PP format to compressed NetCDF format."
   ]
  },
  {
   "cell_type": "markdown",
   "metadata": {},
   "source": [
    "### Install dependencies"
   ]
  },
  {
   "cell_type": "code",
   "execution_count": null,
   "metadata": {
    "collapsed": false
   },
   "outputs": [],
   "source": [
    "!apt-get install -y graphviz\n",
    "!pip install graphviz\n",
    "!conda update -y distributed"
   ]
  },
  {
   "cell_type": "markdown",
   "metadata": {},
   "source": [
    "### Some code to convert files and check the conversion"
   ]
  },
  {
   "cell_type": "code",
   "execution_count": 35,
   "metadata": {
    "collapsed": false
   },
   "outputs": [],
   "source": [
    "import os\n",
    "import tempfile\n",
    "import numpy as np\n",
    "\n",
    "import boto3 as boto\n",
    "import iris\n",
    "\n",
    "import json\n",
    "import itertools\n",
    "\n",
    "import dask\n",
    "\n",
    "from env import AWS_KEY_ID, AWS_SECRET_KEY_ID, USER_ID\n",
    "\n",
    "\n",
    "SQS_ENDPOINT_URL = \"https://sqs.eu-west-2.amazonaws.com/\"\n",
    "JOB_QUEUE_NAME = \"mogreps-conversion\"\n",
    "FAILED_QUEUE_NAME = \"mogreps-conversion-failed\"\n",
    "PASSED_QUEUE_NAME = \"mogreps-conversion-completed\"\n",
    "JOB_QUEUE_URL = SQS_ENDPOINT_URL + USER_ID + \"/\" + JOB_QUEUE_NAME\n",
    "\n",
    "\n",
    "iris.FUTURE.netcdf_no_unlimited = True\n",
    "iris.FUTURE.netcdf_promote = True\n",
    "\n",
    "\n",
    "def init_aws():\n",
    "    session = boto.session.Session(region_name=\"eu-west-2\",\n",
    "                                   aws_access_key_id=AWS_KEY_ID,\n",
    "                                   aws_secret_access_key=AWS_SECRET_KEY_ID)\n",
    "    global sqs\n",
    "    sqs = session.resource('sqs')\n",
    "    global s3\n",
    "    s3 = session.resource('s3')\n",
    "    \n",
    "\n",
    "def tear_down_aws():\n",
    "    sqs.meta.client._endpoint.http_session.close()\n",
    "    s3.meta.client._endpoint.http_session.close()\n",
    "\n",
    "\n",
    "def parse_s3_uri(s3_uri):\n",
    "    nasty_stuff = s3_uri.split(\"/\")\n",
    "    _, extension = os.path.splitext(s3_uri)\n",
    "    bucket = nasty_stuff[2]\n",
    "    key = \"/\".join(nasty_stuff[3:])\n",
    "\n",
    "    return bucket, key, extension\n",
    "\n",
    "\n",
    "def download_object(s3_uri):\n",
    "    bucket, key, extension = parse_s3_uri(s3_uri)\n",
    "    data_file = tempfile.NamedTemporaryFile(mode='w+b', suffix=extension)\n",
    "    s3.Object(bucket, key).download_file(data_file.name)\n",
    "\n",
    "    return data_file\n",
    "\n",
    "\n",
    "def assert_cube_lists_equivalent(cubes_in, cubes_out):\n",
    "     for cube_in in cubes_in:\n",
    "        if cube_in.name() is not 'unknown':\n",
    "            name_con = iris.Constraint(name=cube_in.name())\n",
    "            coords_con = iris.Constraint(cube_func=lambda c: len(c.coords()) == len(cube_in.coords()))\n",
    "            shape_con = iris.Constraint(cube_func=lambda c: c.shape == cube_in.shape)\n",
    "            if len(cube_in.cell_methods) == 0:\n",
    "                cell_method_con = iris.Constraint(cube_func=lambda c: len(c.cell_methods) == 0)\n",
    "            else:\n",
    "                def cmc_con_fn(c):\n",
    "                    if len(c.cell_methods) > 0:\n",
    "                        return c.cell_methods[0].method == cube_in.cell_methods[0].method\n",
    "                    else:\n",
    "                        return False\n",
    "                cell_method_con = iris.Constraint(cube_func=cmc_con_fn)\n",
    "                            \n",
    "            [cube_out] = cubes_out.extract(name_con&coords_con&cell_method_con&shape_con)\n",
    "\n",
    "            np.testing.assert_equal(cube_in.data, cube_out.data)\n",
    "            \n",
    "            \n",
    "def pp_key_to_nc_key(pp_key):\n",
    "    return pp_key.split(\"/\")[-1].replace('pp', 'nc')\n",
    "    \n",
    "    \n",
    "def replace_s3_obj(s3_uri, new_file_name):\n",
    "    old_bucket, old_s3_key, old_extension = parse_s3_uri(s3_uri)\n",
    "    \n",
    "    if 'mogreps-g' in s3_uri:\n",
    "        new_bucket = 'mogreps-g'\n",
    "    elif 'mogreps-uk' in s3_uri:\n",
    "        new_bucket = 'mogreps-uk'\n",
    "    else:\n",
    "        raise ValueError\n",
    "        \n",
    "    new_s3_key = pp_key_to_nc_key(old_s3_key)\n",
    "    \n",
    "    s3.Object(new_bucket, new_s3_key).upload_file(new_file_name)\n",
    "    s3.Object(old_bucket, old_s3_key).delete()\n",
    "    \n",
    "    \n",
    "def add_to_queue(s3_uri, queue):\n",
    "    \n",
    "    failed_queue = sqs.get_queue_by_name(QueueName=queue)\n",
    "    failed_queue.send_message(MessageBody=s3_uri)\n",
    "    \n",
    "    \n",
    "def save_to_netcdf(s3_uri, complevel=1):\n",
    "    data_file_in = download_object(s3_uri)\n",
    "    try:\n",
    "        cubes_in = iris.load(data_file_in.name)\n",
    "    except:\n",
    "        raise AttributeError\n",
    "    \n",
    "    data_file_out = tempfile.NamedTemporaryFile(mode='w+b', suffix=\".nc\")\n",
    "    iris.save(cubes_in, data_file_out.name, netcdf_format=\"NETCDF4\", zlib=True, complevel=complevel)\n",
    "    return data_file_in, data_file_out\n",
    "    \n",
    "\n",
    "def get_a_job():\n",
    "    queue = sqs.Queue(JOB_QUEUE_URL)\n",
    "    some_messages = queue.receive_messages(MaxNumberOfMessages=1)\n",
    "    [a_message] = some_messages\n",
    "    s3_uri = \"s3://mogreps/\"+json.loads(a_message.body)[\"Message\"]\n",
    "    return (a_message.receipt_handle, s3_uri)\n",
    "\n",
    "\n",
    "def convert_next_object_from_s3(message_handle, s3_uri):\n",
    "    \"\"\" Converts file to NetCDF \"\"\"\n",
    "\n",
    "    msg = sqs.Message(JOB_QUEUE_URL, message_handle)\n",
    "\n",
    "    try:\n",
    "        data_file_in, data_file_out = save_to_netcdf(s3_uri)\n",
    "    except Exception as e:\n",
    "        msg.delete()\n",
    "        add_to_queue(s3_uri, FAILED_QUEUE_NAME)\n",
    "        raise\n",
    "        \n",
    "    try:\n",
    "        cubes_in = iris.load(data_file_in.name)\n",
    "        cubes_out = iris.load(data_file_out.name)\n",
    "        assert_cube_lists_equivalent(cubes_in, cubes_out)\n",
    "    except Exception as e:\n",
    "        msg.delete()\n",
    "        add_to_queue(s3_uri, FAILED_QUEUE_NAME)\n",
    "        raise\n",
    "    else:\n",
    "        replace_s3_obj(s3_uri, data_file_out.name)\n",
    "        msg.delete()\n",
    "        add_to_queue(s3_uri, PASSED_QUEUE_NAME)\n",
    "    finally:\n",
    "        tear_down_aws()\n",
    "        \n",
    "\n",
    "def old_file_exists(s3_uri):\n",
    "    mogreps_bucket = mys3.Bucket('mogreps')\n",
    "    \n",
    "    pp_bucket, pp_s3_key, pp_extension = parse_s3_uri(s3_uri)\n",
    "    objs = list(mogrepsg_bucket.objects.filter(Prefix=pp_s3_key))\n",
    "    \n",
    "    return len(objs) > 0\n",
    "    \n",
    "    \n",
    "def new_file_exists(s3_uri):\n",
    "    mogrepsg_bucket = mys3.Bucket('mogreps-g')\n",
    "    mogrepsuk_bucket = mys3.Bucket('mogreps-uk')\n",
    "    \n",
    "    pp_bucket, pp_s3_key, pp_extension = parse_s3_uri(s3_uri)\n",
    "    nc_s3_key = pp_key_to_nc_key(pp_s3_key)\n",
    "    if 'mogreps-g' in s3_uri:\n",
    "        objs = list(mogrepsg_bucket.objects.filter(Prefix=nc_s3_key))\n",
    "    else:\n",
    "        objs = list(mogrepsuk_bucket.objects.filter(Prefix=nc_s3_key))\n",
    "    \n",
    "    return len(objs) > 0\n",
    "    \n",
    "    \n",
    "def delete_old_file(s3_uri):\n",
    "    pp_bucket, pp_s3_key, pp_extension = parse_s3_uri(s3_uri)\n",
    "    s3.Object(pp_bucket, pp_s3_key).delete()\n",
    "    \n",
    "        \n",
    "def deal_with_job(idno):\n",
    "    init_aws()\n",
    "    message_handle, s3_uri = get_a_job()\n",
    "    \n",
    "    old_file_exists = old_file_exists(s3_uri)\n",
    "    new_file_exists = new_file_exists(s3_uri)\n",
    "    \n",
    "    if old_file_exists and new_file_exists:\n",
    "        print(\"a\")\n",
    "        delete_old_file()\n",
    "        convert_next_object_from_s3(message_handle, s3_uri)\n",
    "    elif old_file_exists and not new_file_exists:\n",
    "        print(\"b\")\n",
    "        convert_next_object_from_s3(message_handle, s3_uri)\n",
    "    elif not old_file_exists and new_file_exists:\n",
    "        print(\"c\")\n",
    "        msg = sqs.Message(JOB_QUEUE_URL, message_handle)\n",
    "        msg.delete()\n",
    "    else:\n",
    "        raise RunTimeError"
   ]
  },
  {
   "cell_type": "markdown",
   "metadata": {},
   "source": [
    "### Hello compute cluster!"
   ]
  },
  {
   "cell_type": "code",
   "execution_count": 2,
   "metadata": {
    "collapsed": false
   },
   "outputs": [
    {
     "data": {
      "text/plain": [
       "<Client: scheduler='tcp://ec2-52-56-232-146.eu-west-2.compute.amazonaws.com:8786' processes=2990 cores=2990>"
      ]
     },
     "execution_count": 2,
     "metadata": {},
     "output_type": "execute_result"
    }
   ],
   "source": [
    "import dask\n",
    "import distributed\n",
    "e = distributed.Executor(\"ec2-52-56-232-146.eu-west-2.compute.amazonaws.com:8786\")\n",
    "e"
   ]
  },
  {
   "cell_type": "code",
   "execution_count": null,
   "metadata": {
    "collapsed": false
   },
   "outputs": [],
   "source": [
    "e.submit(convert_next_object_from_s3, pure=False)"
   ]
  },
  {
   "cell_type": "code",
   "execution_count": null,
   "metadata": {
    "collapsed": false
   },
   "outputs": [],
   "source": [
    "for _ in range(10):\n",
    "    f = e.submit(convert_next_object_from_s3, pure=False)"
   ]
  },
  {
   "cell_type": "code",
   "execution_count": 3,
   "metadata": {
    "collapsed": false
   },
   "outputs": [],
   "source": [
    "for i in range(500):\n",
    "    _ = e.map(convert_next_object_from_s3, range(1000), pure=False)"
   ]
  },
  {
   "cell_type": "markdown",
   "metadata": {
    "collapsed": true
   },
   "source": [
    "## Check failed jobs"
   ]
  },
  {
   "cell_type": "code",
   "execution_count": 10,
   "metadata": {
    "collapsed": false
   },
   "outputs": [],
   "source": [
    "mysession = boto.session.Session(region_name=\"eu-west-2\",\n",
    "                                   aws_access_key_id=AWS_KEY_ID,\n",
    "                                   aws_secret_access_key=AWS_SECRET_KEY_ID)\n",
    "mysqs = mysession.resource('sqs')"
   ]
  },
  {
   "cell_type": "code",
   "execution_count": 13,
   "metadata": {
    "collapsed": true
   },
   "outputs": [],
   "source": [
    "failed_queue = mysqs.Queue('https://sqs.eu-west-2.amazonaws.com/021908831235/mogreps-conversion-failed')\n",
    "failed_queue = mysqs.Queue('https://sqs.eu-west-2.amazonaws.com/021908831235/mogreps-conversion-failed')"
   ]
  },
  {
   "cell_type": "code",
   "execution_count": 16,
   "metadata": {
    "collapsed": true
   },
   "outputs": [],
   "source": [
    "mys3 = mysession.resource('s3')"
   ]
  },
  {
   "cell_type": "code",
   "execution_count": 33,
   "metadata": {
    "collapsed": true
   },
   "outputs": [],
   "source": [
    "mogrepsg_bucket = mys3.Bucket('mogreps-g')\n",
    "mogrepsuk_bucket = mys3.Bucket('mogreps-uk')"
   ]
  },
  {
   "cell_type": "code",
   "execution_count": 31,
   "metadata": {
    "collapsed": false
   },
   "outputs": [
    {
     "name": "stdout",
     "output_type": "stream",
     "text": [
      "s3://mogreps/2016/prods_op_mogreps-g_20160103_06_19_162.pp\n",
      "g\n"
     ]
    }
   ],
   "source": [
    "[msg] = failed_queue.receive_messages(MaxNumberOfMessages=1)\n",
    "objpath = msg.body\n",
    "print(objpath)\n",
    "if 'mogreps-g' in objpath:\n",
    "    print('g')\n",
    "    objs = list(mogrepsg_bucket.objects.filter(Prefix=msg.body[13:]))\n",
    "else:\n",
    "    print('uk')\n",
    "    objs = list(mogrepsuk_bucket.objects.filter(Prefix=msg.body[13:]))\n",
    "\n",
    "if len(objs) > 0:\n",
    "    print(\"deleting\")\n",
    "    # jobs worked\n",
    "    msg.delete()"
   ]
  },
  {
   "cell_type": "code",
   "execution_count": 32,
   "metadata": {
    "collapsed": false
   },
   "outputs": [
    {
     "data": {
      "text/plain": [
       "[]"
      ]
     },
     "execution_count": 32,
     "metadata": {},
     "output_type": "execute_result"
    }
   ],
   "source": [
    "objs"
   ]
  },
  {
   "cell_type": "code",
   "execution_count": 14,
   "metadata": {
    "collapsed": false
   },
   "outputs": [],
   "source": [
    "while True\n",
    "    [msg] = failed_queue.receive_messages(MaxNumberOfMessages=1)\n",
    "    objpath = msg.body\n",
    "    if 'mogreps-g' in objpath:\n",
    "        objs = list(mogrepsg_bucket.objects.filter(Prefix=msg.body[13:]))\n",
    "    else:\n",
    "        objs = list(mogrepsuk_bucket.objects.filter(Prefix=msg.body[13:]))\n",
    "    \n",
    "    if len(objs) > 0:\n",
    "        # jobs worked\n",
    "        msg.delete()"
   ]
  },
  {
   "cell_type": "markdown",
   "metadata": {},
   "source": [
    "put all jobs back on to do queue"
   ]
  },
  {
   "cell_type": "code",
   "execution_count": null,
   "metadata": {
    "collapsed": true
   },
   "outputs": [],
   "source": [
    "while True:\n",
    "    [msg] = failed_queue.receive_messages(MaxNumberOfMessages=1)\n",
    "    "
   ]
  }
 ],
 "metadata": {
  "kernelspec": {
   "display_name": "Python 3",
   "language": "python",
   "name": "python3"
  },
  "language_info": {
   "codemirror_mode": {
    "name": "ipython",
    "version": 3
   },
   "file_extension": ".py",
   "mimetype": "text/x-python",
   "name": "python",
   "nbconvert_exporter": "python",
   "pygments_lexer": "ipython3",
   "version": "3.5.2"
  }
 },
 "nbformat": 4,
 "nbformat_minor": 2
}
