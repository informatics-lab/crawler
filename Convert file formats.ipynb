{
 "cells": [
  {
   "cell_type": "code",
   "execution_count": 73,
   "metadata": {
    "collapsed": false
   },
   "outputs": [],
   "source": [
    "from __future__ import print_function\n",
    "\n",
    "import os\n",
    "import tempfile\n",
    "\n",
    "import boto3 as boto\n",
    "import numpy as np\n",
    "from datetime import datetime\n",
    "import iris\n",
    "\n",
    "iris.FUTURE.netcdf_no_unlimited = True\n",
    "\n",
    "\n",
    "def human_bytes(num, suffix='B'):\n",
    "    for unit in ['','Ki','Mi','Gi','Ti','Pi','Ei','Zi']:\n",
    "        if abs(num) < 1024.0:\n",
    "            return \"%3.1f%s%s\" % (num, unit, suffix)\n",
    "        num /= 1024.0\n",
    "    return \"%.1f%s%s\" % (num, 'Yi', suffix)\n",
    "\n",
    "\n",
    "def parse_s3_uri(s3_uri):\n",
    "    nasty_stuff = s3_uri.split(\"/\")\n",
    "    _, extension = os.path.splitext(s3_uri)\n",
    "    bucket = nasty_stuff[2]\n",
    "    key = \"/\".join(nasty_stuff[3:])\n",
    "\n",
    "    return bucket, key, extension\n",
    "\n",
    "\n",
    "def download_object(s3_uri):\n",
    "    bucket, key, extension = parse_s3_uri(s3_uri)\n",
    "#     print(bucket, key, extension)\n",
    "    data_file = tempfile.NamedTemporaryFile(mode='w+b', suffix=extension)\n",
    "    s3 = boto.resource('s3', 'eu-west-2')\n",
    "    s3.Object(bucket, key).download_file(data_file.name)\n",
    "\n",
    "    return data_file\n",
    "\n",
    "\n",
    "def sanitize_cubes(cube_in, cube_out):\n",
    "    for coord in cube_out.coords():\n",
    "            coord.var_name = None\n",
    "    cube_in.attributes = None\n",
    "    cube_out.attributes = None\n",
    "    cube_out.var_name = None\n",
    "    if cube_in.units == 'unknown':\n",
    "        cube_in.units = cube_out.units\n",
    "        \n",
    "    return cube_in, cube_out\n",
    "\n",
    "\n",
    "def assert_cube_lists_equivalent(cubes_in, cubes_out):\n",
    "    for cube_in in cubes_in:\n",
    "        if cube_in.name() is not 'unknown':\n",
    "            name_con = iris.Constraint(name=cube_in.name())\n",
    "            cell_method_con = iris.Constraint(cube_func=lambda c: c.cell_methods==cube_in.cell_methods)  \n",
    "            coord_name_con = iris.Constraint(cube_func=lambda c: all([a.name()==b.name() for a, b in zip(c.coords(), cube_in.coords())]))\n",
    "\n",
    "            [cube_out] = cubes_out.extract(name_con&cell_method_con&coord_name_con)\n",
    "            sanitized_cube_in, sanitized_cube_out = sanitize_cubes(cube_in, cube_out)\n",
    "\n",
    "            np.testing.assert_equal(sanitized_cube_in.data, sanitized_cube_out.data)\n",
    "            assert sanitized_cube_in == sanitized_cube_out\n",
    "    \n",
    "    \n",
    "    \n",
    "def replace_s3_obj(s3_uri, new_file_name):\n",
    "    bucket, old_s3_key, extension = parse_s3_uri(s3_uri)\n",
    "    new_s3_key = \"/\".join(old_s3_key.split(\"/\")[-1] + new_file_name)\n",
    "\n",
    "    s3 = boto.resource('s3')\n",
    "#     s3.Object(bucket, new_s3_key).upload_file(new_file_name)\n",
    "    print(\"UPLOADING...\")\n",
    "    \n",
    "#     s3.Object(bucket, old_s3_key).delete()\n",
    "    \n",
    "    \n",
    "def add_to_dead_letter(s3_uri, dlq_name=\"dlq\"):\n",
    "    sqs = boto.resource('sqs', 'eu-west-2')\n",
    "    dlq = sqs.get_queue_by_name(QueueName=dlq_name)\n",
    "    dlq.send_message(MessageBody=s3_uri)\n",
    "    \n",
    "    \n",
    "def save_to_netcdf(s3_uri, complevel=5):\n",
    "    data_file_in = download_object(s3_uri)\n",
    "    cubes_in = iris.load(data_file_in.name)\n",
    "    \n",
    "    data_file_out = tempfile.NamedTemporaryFile(mode='w+b', suffix=\".nc\")\n",
    "    iris.save(cubes_in, data_file_out.name, netcdf_format=\"NETCDF4\", zlib=True, complevel=complevel)\n",
    "    return data_file_in, data_file_out\n",
    "    \n",
    "    \n",
    "def convert_object_from_s3(s3_uri):\n",
    "    \"\"\" Converts file to NetCDF \"\"\"\n",
    "    data_file_in, data_file_out = save_to_netcdf(s3_uri)\n",
    "    cubes_in = iris.load(data_file_in.name)\n",
    "    cubes_out = iris.load(data_file_out.name)\n",
    "    \n",
    "    try:\n",
    "        assert_cube_lists_equivalent(cubes_in, cubes_out)\n",
    "    except:\n",
    "#         add_to_dead_letter(s3_uri)\n",
    "        raise\n",
    "    else:\n",
    "        replace_s3_obj(s3_uri, data_file_out.name)\n",
    "        \n",
    "        \n",
    "def test_file_size(s3_uri, complevel=5):\n",
    "    now = datetime.now()\n",
    "    data_file_in, data_file_out = save_to_netcdf(s3_uri, complevel)\n",
    "    comp_time = (datetime.now() - now).total_seconds()\n",
    "    now = datetime.now()\n",
    "    cubes_in = iris.load(data_file_in.name)\n",
    "    [cube.data for cube in cubes_in]\n",
    "    load_time = (datetime.now() - now).total_seconds()\n",
    "    return (os.stat(data_file_in.name).st_size, \n",
    "            os.stat(data_file_out.name).st_size,\n",
    "            comp_time, load_time)"
   ]
  },
  {
   "cell_type": "code",
   "execution_count": 75,
   "metadata": {
    "collapsed": false
   },
   "outputs": [
    {
     "name": "stderr",
     "output_type": "stream",
     "text": [
      "/opt/conda/lib/python3.5/site-packages/iris/fileformats/rules.py:946: UserWarning: Unable to create instance of HybridHeightFactory. The source data contains no field(s) for 'orography'.\n",
      "  warnings.warn(msg.format(factory=factory_name))\n",
      "/opt/conda/lib/python3.5/site-packages/iris/fileformats/cf.py:1140: IrisDeprecation: NetCDF default loading behaviour currently does not expose variables which define reference surfaces for dimensionless vertical coordinates as independent Cubes. This behaviour is deprecated in favour of automatic promotion to Cubes. To switch to the new behaviour, set iris.FUTURE.netcdf_promote to True.\n",
      "  warn_deprecated(msg)\n"
     ]
    },
    {
     "name": "stdout",
     "output_type": "stream",
     "text": [
      "UPLOADING...\n"
     ]
    }
   ],
   "source": [
    "convert_object_from_s3(\"s3://mogreps-g/201612/prods_op_mogreps-g_20161203_00_00_048.pp\")"
   ]
  },
  {
   "cell_type": "code",
   "execution_count": null,
   "metadata": {
    "collapsed": true
   },
   "outputs": [],
   "source": [
    "import iris\n",
    "import boto3 as boto\n",
    "\n",
    "def pickup_job(queue_name=\"new_files\"):\n",
    "    sqs = boto.resource('sqs')\n",
    "    queue = sqs.get_queue_by_name(QueueName=queue_name)\n",
    "\n",
    "if __name__ == \"__main__\":\n",
    "    job = pickup_job()\n",
    "    if job:\n",
    "        ingest_job(job)"
   ]
  },
  {
   "cell_type": "code",
   "execution_count": 39,
   "metadata": {
    "collapsed": false
   },
   "outputs": [
    {
     "name": "stderr",
     "output_type": "stream",
     "text": [
      "/opt/conda/lib/python3.5/site-packages/iris/fileformats/rules.py:946: UserWarning: Unable to create instance of HybridHeightFactory. The source data contains no field(s) for 'orography'.\n",
      "  warnings.warn(msg.format(factory=factory_name))\n"
     ]
    }
   ],
   "source": [
    "import iris\n",
    "d = iris.load(\"../test.pp\")"
   ]
  },
  {
   "cell_type": "code",
   "execution_count": 41,
   "metadata": {
    "collapsed": false
   },
   "outputs": [],
   "source": [
    "iris.save(d, 'test.nc', netcdf_format=\"NETCDF4\", zlib=True, complevel=5)"
   ]
  },
  {
   "cell_type": "code",
   "execution_count": 42,
   "metadata": {
    "collapsed": false
   },
   "outputs": [
    {
     "name": "stderr",
     "output_type": "stream",
     "text": [
      "/opt/conda/lib/python3.5/site-packages/iris/fileformats/cf.py:1140: IrisDeprecation: NetCDF default loading behaviour currently does not expose variables which define reference surfaces for dimensionless vertical coordinates as independent Cubes. This behaviour is deprecated in favour of automatic promotion to Cubes. To switch to the new behaviour, set iris.FUTURE.netcdf_promote to True.\n",
      "  warn_deprecated(msg)\n"
     ]
    }
   ],
   "source": [
    "d2 = iris.load('test.nc')"
   ]
  },
  {
   "cell_type": "code",
   "execution_count": 45,
   "metadata": {
    "collapsed": false
   },
   "outputs": [
    {
     "name": "stdout",
     "output_type": "stream",
     "text": [
      "0: atmosphere_optical_thickness_due_all_ambient_aerosol / (1) (pseudo_level: 6; latitude: 600; longitude: 800)\n",
      "1: stratiform_snowfall_rate / (kg m-2 s-1) (latitude: 600; longitude: 800)\n",
      "2: stratiform_snowfall_rate / (kg m-2 s-1) (latitude: 600; longitude: 800)\n",
      "3: unknown / (unknown)                 (latitude: 600; longitude: 800)\n",
      "4: cloud_base_altitude_assuming_only_consider_cloud_area_fraction_greater_than_2p5_oktas / (kft) (latitude: 600; longitude: 800)\n",
      "5: cloud_base_altitude_assuming_only_consider_cloud_area_fraction_greater_than_4p5_oktas / (kft) (latitude: 600; longitude: 800)\n",
      "6: cloud_base_altitude_assuming_only_consider_cloud_area_fraction_greater_than_6p5_oktas / (kft) (latitude: 600; longitude: 800)\n",
      "7: cloud_area_fraction_assuming_maximum_random_overlap / (1) (latitude: 600; longitude: 800)\n",
      "8: cloud_area_fraction_assuming_only_consider_surface_to_1000_feet_asl / (1) (latitude: 600; longitude: 800)\n",
      "9: wet_bulb_freezing_level_altitude / (m) (latitude: 600; longitude: 800)\n",
      "10: unknown / (unknown)                 (latitude: 600; longitude: 800)\n",
      "11: unknown / (unknown)                 (pressure: 4; latitude: 601; longitude: 800)\n",
      "12: wet_bulb_potential_temperature / (K) (pressure: 3; latitude: 600; longitude: 800)\n",
      "13: unknown / (unknown)                 (latitude: 600; longitude: 800)\n",
      "14: air_potential_temperature / (K)     (latitude: 601; longitude: 800)\n",
      "15: air_pressure_at_sea_level / (Pa)    (latitude: 600; longitude: 800)\n",
      "16: air_temperature / (K)               (latitude: 600; longitude: 800)\n",
      "17: air_temperature / (K)               (latitude: 600; longitude: 800)\n",
      "18: air_temperature / (K)               (latitude: 600; longitude: 800)\n",
      "19: air_temperature / (K)               (pressure: 9; latitude: 600; longitude: 800)\n",
      "20: air_temperature / (K)               (model_level_number: 2; latitude: 600; longitude: 800)\n",
      "21: atmosphere_boundary_layer_thickness / (m) (latitude: 600; longitude: 800)\n",
      "22: atmosphere_optical_thickness_due_to_dust_ambient_aerosol / (1) (pseudo_level: 6; latitude: 600; longitude: 800)\n",
      "23: convective_rainfall_amount / (kg m-2) (latitude: 600; longitude: 800)\n",
      "24: convective_rainfall_rate / (kg m-2 s-1) (latitude: 600; longitude: 800)\n",
      "25: convective_rainfall_rate / (kg m-2 s-1) (latitude: 600; longitude: 800)\n",
      "26: convective_snowfall_amount / (kg m-2) (latitude: 600; longitude: 800)\n",
      "27: convective_snowfall_flux / (kg m-2 s-1) (latitude: 600; longitude: 800)\n",
      "28: convective_snowfall_flux / (kg m-2 s-1) (latitude: 600; longitude: 800)\n",
      "29: dew_point_temperature / (K)         (latitude: 600; longitude: 800)\n",
      "30: fog_area_fraction / (1)             (latitude: 600; longitude: 800)\n",
      "31: geopotential_height / (m)           (pressure: 9; latitude: 600; longitude: 800)\n",
      "32: high_type_cloud_area_fraction / (1) (latitude: 600; longitude: 800)\n",
      "33: low_type_cloud_area_fraction / (1)  (latitude: 600; longitude: 800)\n",
      "34: mass_fraction_of_convective_cloud_liquid_water_in_air / (1) (latitude: 600; longitude: 800)\n",
      "35: medium_type_cloud_area_fraction / (1) (latitude: 600; longitude: 800)\n",
      "36: moisture_content_of_soil_layer / (kg m-2) (depth: 4; latitude: 600; longitude: 800)\n",
      "37: precipitation_amount / (kg m-2)     (forecast_period: 3; latitude: 600; longitude: 800)\n",
      "38: precipitation_flux / (kg m-2 s-1)   (latitude: 600; longitude: 800)\n",
      "39: relative_humidity / (%)             (latitude: 600; longitude: 800)\n",
      "40: relative_humidity / (%)             (pressure: 9; latitude: 600; longitude: 800)\n",
      "41: snowfall_amount / (kg m-2)          (time: 3; latitude: 600; longitude: 800)\n",
      "42: stratiform_rainfall_amount / (kg m-2) (latitude: 600; longitude: 800)\n",
      "43: stratiform_rainfall_rate / (kg m-2 s-1) (latitude: 600; longitude: 800)\n",
      "44: stratiform_rainfall_rate / (kg m-2 s-1) (latitude: 600; longitude: 800)\n",
      "45: stratiform_snowfall_amount / (kg m-2) (latitude: 600; longitude: 800)\n",
      "46: surface_downward_eastward_stress / (Pa) (latitude: 600; longitude: 800)\n",
      "47: surface_downward_northward_stress / (Pa) (latitude: 601; longitude: 800)\n",
      "48: surface_downwelling_longwave_flux / (W m-2) (latitude: 600; longitude: 800)\n",
      "49: surface_temperature / (K)           (latitude: 600; longitude: 800)\n",
      "50: surface_upward_sensible_heat_flux / (W m-2) (latitude: 600; longitude: 800)\n",
      "51: toa_outgoing_longwave_flux / (W m-2) (latitude: 600; longitude: 800)\n",
      "52: visibility_in_air / (m)             (time: 3; latitude: 600; longitude: 800)\n",
      "53: wind_speed_of_gust / (m s-1)        (latitude: 600; longitude: 800)\n",
      "54: wind_speed_of_gust / (m s-1)        (latitude: 600; longitude: 800)\n",
      "55: x_wind / (m s-1)                    (time: 3; latitude: 601; longitude: 800)\n",
      "56: x_wind / (m s-1)                    (latitude: 600; longitude: 800)\n",
      "57: x_wind / (m s-1)                    (pressure: 9; latitude: 601; longitude: 800)\n",
      "58: x_wind / (m s-1)                    (latitude: 600; longitude: 800)\n",
      "59: y_wind / (m s-1)                    (time: 3; latitude: 601; longitude: 800)\n",
      "60: y_wind / (m s-1)                    (latitude: 601; longitude: 800)\n",
      "61: y_wind / (m s-1)                    (pressure: 9; latitude: 601; longitude: 800)\n",
      "62: y_wind / (m s-1)                    (latitude: 601; longitude: 800)\n"
     ]
    }
   ],
   "source": [
    "print(d)"
   ]
  },
  {
   "cell_type": "code",
   "execution_count": 48,
   "metadata": {
    "collapsed": false
   },
   "outputs": [],
   "source": [
    "name_con = iris.Constraint(name=d[3].name())\n",
    "cell_method_con = iris.Constraint(cube_func=lambda c: c.cell_methods==d[3].cell_methods)"
   ]
  },
  {
   "cell_type": "code",
   "execution_count": 50,
   "metadata": {
    "collapsed": false
   },
   "outputs": [
    {
     "name": "stdout",
     "output_type": "stream",
     "text": [
      "0: unknown / (1)                       (latitude: 600; longitude: 800)\n"
     ]
    }
   ],
   "source": [
    "print(d2.extract(name_con&cell_method_con))"
   ]
  },
  {
   "cell_type": "code",
   "execution_count": 56,
   "metadata": {
    "collapsed": false
   },
   "outputs": [],
   "source": [
    "uk = [_ for _ in d if _.name()=='unknown']"
   ]
  },
  {
   "cell_type": "code",
   "execution_count": 58,
   "metadata": {
    "collapsed": false
   },
   "outputs": [
    {
     "data": {
      "text/plain": [
       "()"
      ]
     },
     "execution_count": 58,
     "metadata": {},
     "output_type": "execute_result"
    }
   ],
   "source": []
  },
  {
   "cell_type": "code",
   "execution_count": null,
   "metadata": {
    "collapsed": true
   },
   "outputs": [],
   "source": []
  }
 ],
 "metadata": {
  "kernelspec": {
   "display_name": "Python 3",
   "language": "python",
   "name": "python3"
  },
  "language_info": {
   "codemirror_mode": {
    "name": "ipython",
    "version": 3
   },
   "file_extension": ".py",
   "mimetype": "text/x-python",
   "name": "python",
   "nbconvert_exporter": "python",
   "pygments_lexer": "ipython3",
   "version": "3.5.2"
  }
 },
 "nbformat": 4,
 "nbformat_minor": 2
}
