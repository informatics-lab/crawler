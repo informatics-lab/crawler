{
 "cells": [
  {
   "cell_type": "code",
   "execution_count": 14,
   "metadata": {
    "collapsed": true
   },
   "outputs": [],
   "source": [
    "from __future__ import print_function\n",
    "\n",
    "import os\n",
    "import tempfile\n",
    "\n",
    "import boto3 as boto\n",
    "import numpy as np\n",
    "from datetime import datetime\n",
    "import iris\n",
    "\n",
    "iris.FUTURE.netcdf_no_unlimited = True\n",
    "\n",
    "\n",
    "def setup_credentials():\n",
    "#     os.environ[\"AWS_ACCESS_KEY_ID\"] = \"\"\n",
    "#     os.environ[\"AWS_SECRET_ACCESS_KEY\"] = \"\"\n",
    "\n",
    "def parse_s3_uri(s3_uri):\n",
    "    nasty_stuff = s3_uri.split(\"/\")\n",
    "    _, extension = os.path.splitext(s3_uri)\n",
    "    bucket = nasty_stuff[2]\n",
    "    key = \"/\".join(nasty_stuff[3:])\n",
    "\n",
    "    return bucket, key, extension\n",
    "\n",
    "\n",
    "def download_object(s3_uri):\n",
    "    bucket, key, extension = parse_s3_uri(s3_uri)\n",
    "    data_file = tempfile.NamedTemporaryFile(mode='w+b', suffix=extension)\n",
    "    s3 = boto.resource('s3', 'eu-west-2')\n",
    "    s3.Object(bucket, key).download_file(data_file.name)\n",
    "\n",
    "    return data_file\n",
    "\n",
    "\n",
    "def sanitize_cubes(cube_in, cube_out):\n",
    "    for coord in cube_out.coords():\n",
    "            coord.var_name = None\n",
    "    cube_in.attributes = None\n",
    "    cube_out.attributes = None\n",
    "    cube_out.var_name = None\n",
    "    if cube_in.units == 'unknown':\n",
    "        cube_in.units = cube_out.units\n",
    "        \n",
    "    return cube_in, cube_out\n",
    "\n",
    "\n",
    "def assert_cube_lists_equivalent(cubes_in, cubes_out):\n",
    "    for cube_in in cubes_in:\n",
    "        if cube_in.name() is not 'unknown':\n",
    "            name_con = iris.Constraint(name=cube_in.name())\n",
    "            cell_method_con = iris.Constraint(cube_func=lambda c: c.cell_methods==cube_in.cell_methods)  \n",
    "            coord_name_con = iris.Constraint(cube_func=lambda c: all([a.name()==b.name() for a, b in zip(c.coords(), cube_in.coords())]))\n",
    "\n",
    "            [cube_out] = cubes_out.extract(name_con&cell_method_con&coord_name_con)\n",
    "            sanitized_cube_in, sanitized_cube_out = sanitize_cubes(cube_in, cube_out)\n",
    "\n",
    "            np.testing.assert_equal(sanitized_cube_in.data, sanitized_cube_out.data)\n",
    "            assert sanitized_cube_in == sanitized_cube_out\n",
    "    \n",
    "    \n",
    "    \n",
    "def replace_s3_obj(s3_uri, new_file_name):\n",
    "    old_bucket, old_s3_key, extension = parse_s3_uri(s3_uri)\n",
    "    \n",
    "    if \"mogreps-uk\" in old_s3_key:\n",
    "        new_bucket = \"mogreps-uk\"\n",
    "    elif \"mogreps-g\" in old_s3_key:\n",
    "        new_bucket = \"mogreps-g\"\n",
    "    else:\n",
    "        raise ValueError\n",
    "\n",
    "    s3 = boto.resource('s3', 'eu-west-2')\n",
    "    s3.Object(new_bucket, new_s3_key).upload_file(new_file_name)\n",
    "    s3.Object(old_bucket, old_s3_key).delete()\n",
    "    \n",
    "    \n",
    "def add_to_queue(s3_uri, queue_name):\n",
    "    sqs = boto.resource('sqs', 'eu-west-2')\n",
    "    queue = sqs.get_queue_by_name(QueueName=queue_name)\n",
    "    queue.send_message(MessageBody=s3_uri)\n",
    "    \n",
    "    \n",
    "def save_to_netcdf(s3_uri, complevel=5):\n",
    "    data_file_in = download_object(s3_uri)\n",
    "    cubes_in = iris.load(data_file_in.name)\n",
    "    \n",
    "    data_file_out = tempfile.NamedTemporaryFile(mode='w+b', suffix=\".nc\")\n",
    "    iris.save(cubes_in, data_file_out.name, netcdf_format=\"NETCDF4\", zlib=True, complevel=complevel)\n",
    "    return data_file_in, data_file_out\n",
    "    \n",
    "    \n",
    "def convert_object_from_s3(message):\n",
    "    \"\"\" Converts file to NetCDF \"\"\"\n",
    "    setup_credentials()\n",
    "    s3_uri = message.body\n",
    "    data_file_in, data_file_out = save_to_netcdf(s3_uri)\n",
    "    cubes_in = iris.load(data_file_in.name)\n",
    "    cubes_out = iris.load(data_file_out.name)\n",
    "    \n",
    "    try:\n",
    "        assert_cube_lists_equivalent(cubes_in, cubes_out)\n",
    "    except:\n",
    "        add_to_queue(s3_uri, \"mogreps-conversion-failed\")\n",
    "    else:\n",
    "        replace_s3_obj(s3_uri, data_file_out.name)\n",
    "        add_to_queue(s3_uri, \"mogreps-conversion-completed\")\n",
    "        message.delete()\n",
    "        \n",
    "        \n",
    "def test_file_size(s3_uri, complevel=5):\n",
    "    now = datetime.now()\n",
    "    data_file_in, data_file_out = save_to_netcdf(s3_uri, complevel)\n",
    "    comp_time = (datetime.now() - now).total_seconds()\n",
    "    now = datetime.now()\n",
    "    cubes_in = iris.load(data_file_in.name)\n",
    "    [cube.data for cube in cubes_in]\n",
    "    load_time = (datetime.now() - now).total_seconds()\n",
    "    return (os.stat(data_file_in.name).st_size, \n",
    "            os.stat(data_file_out.name).st_size,\n",
    "            comp_time, load_time)"
   ]
  },
  {
   "cell_type": "code",
   "execution_count": 15,
   "metadata": {
    "collapsed": false
   },
   "outputs": [
    {
     "data": {
      "text/plain": [
       "<Client: scheduler=\"ec2-52-56-198-147.eu-west-2.compute.amazonaws.com:8786\" processes=1 cores=2>"
      ]
     },
     "execution_count": 15,
     "metadata": {},
     "output_type": "execute_result"
    }
   ],
   "source": [
    "import distributed\n",
    "\n",
    "e = distributed.Executor('ec2-52-56-198-147.eu-west-2.compute.amazonaws.com:8786')\n",
    "e"
   ]
  },
  {
   "cell_type": "code",
   "execution_count": 28,
   "metadata": {
    "collapsed": false,
    "scrolled": true
   },
   "outputs": [
    {
     "data": {
      "text/plain": [
       "<generator object queue_to_iterator at 0x7f495cb22990>"
      ]
     },
     "execution_count": 28,
     "metadata": {},
     "output_type": "execute_result"
    },
    {
     "name": "stderr",
     "output_type": "stream",
     "text": [
      "Exception in thread Thread-20:\n",
      "Traceback (most recent call last):\n",
      "  File \"/opt/conda/lib/python3.5/threading.py\", line 914, in _bootstrap_inner\n",
      "    self.run()\n",
      "  File \"/opt/conda/lib/python3.5/threading.py\", line 862, in run\n",
      "    self._target(*self._args, **self._kwargs)\n",
      "  File \"/opt/conda/lib/python3.5/site-packages/distributed/client.py\", line 745, in _threaded_map\n",
      "    args = [get(q) for q in qs_in]\n",
      "  File \"/opt/conda/lib/python3.5/site-packages/distributed/client.py\", line 745, in <listcomp>\n",
      "    args = [get(q) for q in qs_in]\n",
      "  File \"<ipython-input-28-c1eb59aac0fc>\", line 9, in pickup_jobs\n",
      "    queue = sqs.get_queue_by_name(QueueName=queue_name, QueueOwnerAWSAccountId=\"metofficepublicdata\")\n",
      "  File \"/opt/conda/lib/python3.5/site-packages/boto3/resources/factory.py\", line 520, in do_action\n",
      "    response = action(self, *args, **kwargs)\n",
      "  File \"/opt/conda/lib/python3.5/site-packages/boto3/resources/action.py\", line 83, in __call__\n",
      "    response = getattr(parent.meta.client, operation_name)(**params)\n",
      "  File \"/opt/conda/lib/python3.5/site-packages/botocore/client.py\", line 251, in _api_call\n",
      "    return self._make_api_call(operation_name, kwargs)\n",
      "  File \"/opt/conda/lib/python3.5/site-packages/botocore/client.py\", line 537, in _make_api_call\n",
      "    raise ClientError(parsed_response, operation_name)\n",
      "botocore.exceptions.ClientError: An error occurred (InvalidAddress) when calling the GetQueueUrl operation: The address https://eu-west-2.queue.amazonaws.com/ is not valid for this endpoint.\n",
      "\n"
     ]
    }
   ],
   "source": [
    "import iris\n",
    "import dask\n",
    "import boto3 as boto\n",
    "import itertools\n",
    "\n",
    "\n",
    "def pickup_jobs(queue_name=\"mogreps-conversion\"):\n",
    "    sqs = boto.resource('sqs', 'eu-west-2')\n",
    "    queue = sqs.get_queue_by_name(QueueName=queue_name, QueueOwnerAWSAccountId=\"metofficepublicdata\")\n",
    "    for message in queue.receive_messages():\n",
    "        yield message\n",
    "\n",
    "        \n",
    "jobs = pickup_jobs()\n",
    "some_jobs = itertools.islice(jobs, 5)\n",
    "e.map(convert_object_from_s3, some_jobs)"
   ]
  },
  {
   "cell_type": "code",
   "execution_count": null,
   "metadata": {
    "collapsed": true
   },
   "outputs": [],
   "source": []
  }
 ],
 "metadata": {
  "kernelspec": {
   "display_name": "Python 3",
   "language": "python",
   "name": "python3"
  },
  "language_info": {
   "codemirror_mode": {
    "name": "ipython",
    "version": 3
   },
   "file_extension": ".py",
   "mimetype": "text/x-python",
   "name": "python",
   "nbconvert_exporter": "python",
   "pygments_lexer": "ipython3",
   "version": "3.5.2"
  }
 },
 "nbformat": 4,
 "nbformat_minor": 2
}
