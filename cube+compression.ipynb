{
 "cells": [
  {
   "cell_type": "code",
   "execution_count": 1,
   "metadata": {
    "collapsed": false
   },
   "outputs": [
    {
     "name": "stdout",
     "output_type": "stream",
     "text": [
      "20 files for example : /usr/local/share/notebooks/data/mogreps-g/201612/prods_op_mogreps-g_20161203_00_00_003.pp\n"
     ]
    }
   ],
   "source": [
    "import iris\n",
    "import numpy as np\n",
    "from jade_utils.iris_tools.padded_orthogonal_merge import padded_orthogonal_merge\n",
    "from jade_utils.data_tools import Loader\n",
    "\n",
    "myloader = Loader()\n",
    "fs = myloader.list_files(\"mogreps-g\")\n",
    "fs = fs[:20]\n",
    "print ('%s files for example : %s'%(len(fs), fs[0]))"
   ]
  },
  {
   "cell_type": "code",
   "execution_count": 23,
   "metadata": {
    "collapsed": true
   },
   "outputs": [],
   "source": [
    "def human_bytes(num, suffix='B'):\n",
    "    for unit in ['','Ki','Mi','Gi','Ti','Pi','Ei','Zi']:\n",
    "        if abs(num) < 1024.0:\n",
    "            return \"%3.1f%s%s\" % (num, unit, suffix)\n",
    "        num /= 1024.0\n",
    "    return \"%.1f%s%s\" % (num, 'Yi', suffix)"
   ]
  },
  {
   "cell_type": "code",
   "execution_count": 2,
   "metadata": {
    "collapsed": false
   },
   "outputs": [
    {
     "name": "stderr",
     "output_type": "stream",
     "text": [
      "/opt/conda/lib/python3.5/site-packages/iris/fileformats/rules.py:946: UserWarning: Unable to create instance of HybridHeightFactory. The source data contains no field(s) for 'orography'.\n",
      "  warnings.warn(msg.format(factory=factory_name))\n",
      "/opt/conda/lib/python3.5/site-packages/iris/fileformats/rules.py:946: UserWarning: Unable to create instance of HybridHeightFactory. The source data contains no field(s) for 'orography'.\n",
      "  warnings.warn(msg.format(factory=factory_name))\n",
      "/opt/conda/lib/python3.5/site-packages/iris/fileformats/rules.py:946: UserWarning: Unable to create instance of HybridHeightFactory. The source data contains no field(s) for 'orography'.\n",
      "  warnings.warn(msg.format(factory=factory_name))\n",
      "/opt/conda/lib/python3.5/site-packages/iris/fileformats/rules.py:946: UserWarning: Unable to create instance of HybridHeightFactory. The source data contains no field(s) for 'orography'.\n",
      "  warnings.warn(msg.format(factory=factory_name))\n"
     ]
    }
   ],
   "source": [
    "import dask\n",
    "from dask import bag as db\n",
    "import os\n",
    "\n",
    "class Error(object):\n",
    "    def __init__(self, msg, err):\n",
    "        self.msg = msg\n",
    "        self.err = err\n",
    "    def __str__(self):\n",
    "        return ('Error(%s, %s)' % ( self.msg, self.err))\n",
    "    \n",
    "def load_cubes(filepath, constraint):\n",
    "    if not os.path.exists(filepath):\n",
    "        filepath = '/usr/local/share/notebooks/data' + filepath.split('/data')[1]\n",
    "    try:\n",
    "        return iris.load_raw(filepath, constraint, callback=add_realisation)\n",
    "    except Exception as e:\n",
    "        return [Error(str(e), e)]\n",
    "    \n",
    "def realization_from_filename(filename):\n",
    "    return int(os.path.basename(filename).split('_')[-2])\n",
    "\n",
    "def add_realisation(cube, field, filename):\n",
    "    # have we got a realization attribute?\n",
    "    try:\n",
    "        realization_coord = cube.coord('realization')\n",
    "    except iris.exceptions.CoordinateNotFoundError:\n",
    "        realization = realization_from_filename(filename)\n",
    "        cube.add_aux_coord(iris.coords.AuxCoord(realization, standard_name='realization', units='1'))\n",
    "        \n",
    "def not_an_error(thing):\n",
    "    return not isinstance(thing, Error)\n",
    "\n",
    "        \n",
    "@dask.delayed\n",
    "def delayed_load(filename, constraint):\n",
    "    return load_cubes(filename, constraint)\n",
    "\n",
    "\n",
    "stash_constraint = iris.Constraint(cube_func = lambda c: c.attributes['STASH'].item == 256)\n",
    "load_bag = db.from_delayed([delayed_load(f, stash_constraint) for f in fs])\n",
    "cubes = iris.cube.CubeList(load_bag.compute())"
   ]
  },
  {
   "cell_type": "code",
   "execution_count": 3,
   "metadata": {
    "collapsed": false
   },
   "outputs": [
    {
     "data": {
      "text/plain": [
       "False"
      ]
     },
     "execution_count": 3,
     "metadata": {},
     "output_type": "execute_result"
    }
   ],
   "source": [
    "iris.FUTURE.netcdf_no_unlimited"
   ]
  },
  {
   "cell_type": "code",
   "execution_count": 4,
   "metadata": {
    "collapsed": false
   },
   "outputs": [],
   "source": [
    "mega_cube = padded_orthogonal_merge(cubes, ['time', 'pressure','realization'])"
   ]
  },
  {
   "cell_type": "code",
   "execution_count": 5,
   "metadata": {
    "collapsed": false
   },
   "outputs": [
    {
     "data": {
      "text/plain": [
       "<iris 'Cube' of relative_humidity / (%) (time: 21; pressure: 16; latitude: 600; longitude: 800)>"
      ]
     },
     "execution_count": 5,
     "metadata": {},
     "output_type": "execute_result"
    }
   ],
   "source": [
    "mega_cube"
   ]
  },
  {
   "cell_type": "code",
   "execution_count": 7,
   "metadata": {
    "collapsed": false
   },
   "outputs": [
    {
     "name": "stderr",
     "output_type": "stream",
     "text": [
      "/opt/conda/lib/python3.5/site-packages/iris/fileformats/pp.py:2292: IrisDeprecation: as_pairs is deprecated in v1.10; please use save_pairs_from_cube instead.\n",
      "  warn_deprecated('as_pairs is deprecated in v1.10; please use'\n"
     ]
    }
   ],
   "source": [
    "iris.fileformats.pp.save(mega_cube, '/tmp/cube.pp')"
   ]
  },
  {
   "cell_type": "code",
   "execution_count": 19,
   "metadata": {
    "collapsed": true
   },
   "outputs": [],
   "source": [
    "import os"
   ]
  },
  {
   "cell_type": "code",
   "execution_count": 26,
   "metadata": {
    "collapsed": false
   },
   "outputs": [
    {
     "data": {
      "text/plain": [
       "'1.7GiB'"
      ]
     },
     "execution_count": 26,
     "metadata": {},
     "output_type": "execute_result"
    }
   ],
   "source": [
    "human_bytes(sum([os.stat(origfile).st_size for origfile in fs]))"
   ]
  },
  {
   "cell_type": "code",
   "execution_count": 24,
   "metadata": {
    "collapsed": false
   },
   "outputs": [
    {
     "data": {
      "text/plain": [
       "'615.3MiB'"
      ]
     },
     "execution_count": 24,
     "metadata": {},
     "output_type": "execute_result"
    }
   ],
   "source": [
    "human_bytes(os.stat('/tmp/cube.pp').st_size)"
   ]
  },
  {
   "cell_type": "code",
   "execution_count": 12,
   "metadata": {
    "collapsed": false
   },
   "outputs": [
    {
     "name": "stderr",
     "output_type": "stream",
     "text": [
      "/opt/conda/lib/python3.5/site-packages/iris/fileformats/netcdf.py:2026: IrisDeprecation: NetCDF default saving behaviour currently assigns the outermost dimensions to unlimited. This behaviour is to be deprecated, in favour of no automatic assignment. To switch to the new behaviour, set iris.FUTURE.netcdf_no_unlimited to True.\n",
      "  warn_deprecated(msg)\n"
     ]
    }
   ],
   "source": [
    "iris.fileformats.netcdf.save(mega_cube, '/tmp/cube_zlib_shuffle.nc', zlib=True, shuffle=True)"
   ]
  },
  {
   "cell_type": "code",
   "execution_count": 27,
   "metadata": {
    "collapsed": false
   },
   "outputs": [
    {
     "data": {
      "text/plain": [
       "'136.2MiB'"
      ]
     },
     "execution_count": 27,
     "metadata": {},
     "output_type": "execute_result"
    }
   ],
   "source": [
    "human_bytes(os.stat('/tmp/cube_zlib_shuffle.nc').st_size)"
   ]
  },
  {
   "cell_type": "code",
   "execution_count": 15,
   "metadata": {
    "collapsed": false
   },
   "outputs": [
    {
     "name": "stderr",
     "output_type": "stream",
     "text": [
      "/opt/conda/lib/python3.5/site-packages/iris/fileformats/netcdf.py:2026: IrisDeprecation: NetCDF default saving behaviour currently assigns the outermost dimensions to unlimited. This behaviour is to be deprecated, in favour of no automatic assignment. To switch to the new behaviour, set iris.FUTURE.netcdf_no_unlimited to True.\n",
      "  warn_deprecated(msg)\n"
     ]
    }
   ],
   "source": [
    "iris.fileformats.netcdf.save(mega_cube, '/tmp/cube_zlib_noshuffle.nc', zlib=True, shuffle=False)"
   ]
  },
  {
   "cell_type": "code",
   "execution_count": 28,
   "metadata": {
    "collapsed": false
   },
   "outputs": [
    {
     "data": {
      "text/plain": [
       "'190.9MiB'"
      ]
     },
     "execution_count": 28,
     "metadata": {},
     "output_type": "execute_result"
    }
   ],
   "source": [
    "human_bytes(os.stat('/tmp/cube_zlib_noshuffle.nc').st_size)"
   ]
  },
  {
   "cell_type": "code",
   "execution_count": 17,
   "metadata": {
    "collapsed": false
   },
   "outputs": [
    {
     "name": "stderr",
     "output_type": "stream",
     "text": [
      "/opt/conda/lib/python3.5/site-packages/iris/fileformats/netcdf.py:2026: IrisDeprecation: NetCDF default saving behaviour currently assigns the outermost dimensions to unlimited. This behaviour is to be deprecated, in favour of no automatic assignment. To switch to the new behaviour, set iris.FUTURE.netcdf_no_unlimited to True.\n",
      "  warn_deprecated(msg)\n"
     ]
    }
   ],
   "source": [
    "iris.fileformats.netcdf.save(mega_cube, '/tmp/cube_nozlib_noshuffle.nc', zlib=False, shuffle=False)"
   ]
  },
  {
   "cell_type": "code",
   "execution_count": 29,
   "metadata": {
    "collapsed": false
   },
   "outputs": [
    {
     "data": {
      "text/plain": [
       "'692.2MiB'"
      ]
     },
     "execution_count": 29,
     "metadata": {},
     "output_type": "execute_result"
    }
   ],
   "source": [
    "human_bytes(os.stat('/tmp/cube_nozlib_noshuffle.nc').st_size)"
   ]
  },
  {
   "cell_type": "code",
   "execution_count": null,
   "metadata": {
    "collapsed": true
   },
   "outputs": [],
   "source": []
  }
 ],
 "metadata": {
  "kernelspec": {
   "display_name": "Python 3",
   "language": "python",
   "name": "python3"
  },
  "language_info": {
   "codemirror_mode": {
    "name": "ipython",
    "version": 3
   },
   "file_extension": ".py",
   "mimetype": "text/x-python",
   "name": "python",
   "nbconvert_exporter": "python",
   "pygments_lexer": "ipython3",
   "version": "3.5.2"
  }
 },
 "nbformat": 4,
 "nbformat_minor": 2
}
